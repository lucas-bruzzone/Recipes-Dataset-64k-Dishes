{
  "nbformat": 4,
  "nbformat_minor": 0,
  "metadata": {
    "colab": {
      "provenance": [],
      "gpuType": "T4",
      "include_colab_link": true
    },
    "kernelspec": {
      "name": "python3",
      "display_name": "Python 3"
    },
    "language_info": {
      "name": "python"
    },
    "accelerator": "GPU",
    "widgets": {
      "application/vnd.jupyter.widget-state+json": {
        "345f8ff2b8f64e7a9186e6c47882b5b9": {
          "model_module": "@jupyter-widgets/controls",
          "model_name": "HBoxModel",
          "model_module_version": "1.5.0",
          "state": {
            "_dom_classes": [],
            "_model_module": "@jupyter-widgets/controls",
            "_model_module_version": "1.5.0",
            "_model_name": "HBoxModel",
            "_view_count": null,
            "_view_module": "@jupyter-widgets/controls",
            "_view_module_version": "1.5.0",
            "_view_name": "HBoxView",
            "box_style": "",
            "children": [
              "IPY_MODEL_bae1936115ab42be9c3ce798a9838a23",
              "IPY_MODEL_098bd7ae3fb94043b0d3cdb190c1c5e6",
              "IPY_MODEL_b6bb25cb21414c988bd2768a57199432"
            ],
            "layout": "IPY_MODEL_7cbac686724a431bb7522c1e11621c31"
          }
        },
        "bae1936115ab42be9c3ce798a9838a23": {
          "model_module": "@jupyter-widgets/controls",
          "model_name": "HTMLModel",
          "model_module_version": "1.5.0",
          "state": {
            "_dom_classes": [],
            "_model_module": "@jupyter-widgets/controls",
            "_model_module_version": "1.5.0",
            "_model_name": "HTMLModel",
            "_view_count": null,
            "_view_module": "@jupyter-widgets/controls",
            "_view_module_version": "1.5.0",
            "_view_name": "HTMLView",
            "description": "",
            "description_tooltip": null,
            "layout": "IPY_MODEL_fa2679f61b8d4f438435cd49e530e4fb",
            "placeholder": "​",
            "style": "IPY_MODEL_5c0840e9cfb24dfb95e8b75e090f5005",
            "value": "Batches: 100%"
          }
        },
        "098bd7ae3fb94043b0d3cdb190c1c5e6": {
          "model_module": "@jupyter-widgets/controls",
          "model_name": "FloatProgressModel",
          "model_module_version": "1.5.0",
          "state": {
            "_dom_classes": [],
            "_model_module": "@jupyter-widgets/controls",
            "_model_module_version": "1.5.0",
            "_model_name": "FloatProgressModel",
            "_view_count": null,
            "_view_module": "@jupyter-widgets/controls",
            "_view_module_version": "1.5.0",
            "_view_name": "ProgressView",
            "bar_style": "success",
            "description": "",
            "description_tooltip": null,
            "layout": "IPY_MODEL_050a242dac7d477eae84b1c490cce3c9",
            "max": 243,
            "min": 0,
            "orientation": "horizontal",
            "style": "IPY_MODEL_868fd19e03d243c7a435c867d41224dd",
            "value": 243
          }
        },
        "b6bb25cb21414c988bd2768a57199432": {
          "model_module": "@jupyter-widgets/controls",
          "model_name": "HTMLModel",
          "model_module_version": "1.5.0",
          "state": {
            "_dom_classes": [],
            "_model_module": "@jupyter-widgets/controls",
            "_model_module_version": "1.5.0",
            "_model_name": "HTMLModel",
            "_view_count": null,
            "_view_module": "@jupyter-widgets/controls",
            "_view_module_version": "1.5.0",
            "_view_name": "HTMLView",
            "description": "",
            "description_tooltip": null,
            "layout": "IPY_MODEL_417ab8c028d64af588a83af2d8d3fca2",
            "placeholder": "​",
            "style": "IPY_MODEL_fb66bd267cf0462fbf9b7e83f25d02af",
            "value": " 243/243 [00:22&lt;00:00, 25.93it/s]"
          }
        },
        "7cbac686724a431bb7522c1e11621c31": {
          "model_module": "@jupyter-widgets/base",
          "model_name": "LayoutModel",
          "model_module_version": "1.2.0",
          "state": {
            "_model_module": "@jupyter-widgets/base",
            "_model_module_version": "1.2.0",
            "_model_name": "LayoutModel",
            "_view_count": null,
            "_view_module": "@jupyter-widgets/base",
            "_view_module_version": "1.2.0",
            "_view_name": "LayoutView",
            "align_content": null,
            "align_items": null,
            "align_self": null,
            "border": null,
            "bottom": null,
            "display": null,
            "flex": null,
            "flex_flow": null,
            "grid_area": null,
            "grid_auto_columns": null,
            "grid_auto_flow": null,
            "grid_auto_rows": null,
            "grid_column": null,
            "grid_gap": null,
            "grid_row": null,
            "grid_template_areas": null,
            "grid_template_columns": null,
            "grid_template_rows": null,
            "height": null,
            "justify_content": null,
            "justify_items": null,
            "left": null,
            "margin": null,
            "max_height": null,
            "max_width": null,
            "min_height": null,
            "min_width": null,
            "object_fit": null,
            "object_position": null,
            "order": null,
            "overflow": null,
            "overflow_x": null,
            "overflow_y": null,
            "padding": null,
            "right": null,
            "top": null,
            "visibility": null,
            "width": null
          }
        },
        "fa2679f61b8d4f438435cd49e530e4fb": {
          "model_module": "@jupyter-widgets/base",
          "model_name": "LayoutModel",
          "model_module_version": "1.2.0",
          "state": {
            "_model_module": "@jupyter-widgets/base",
            "_model_module_version": "1.2.0",
            "_model_name": "LayoutModel",
            "_view_count": null,
            "_view_module": "@jupyter-widgets/base",
            "_view_module_version": "1.2.0",
            "_view_name": "LayoutView",
            "align_content": null,
            "align_items": null,
            "align_self": null,
            "border": null,
            "bottom": null,
            "display": null,
            "flex": null,
            "flex_flow": null,
            "grid_area": null,
            "grid_auto_columns": null,
            "grid_auto_flow": null,
            "grid_auto_rows": null,
            "grid_column": null,
            "grid_gap": null,
            "grid_row": null,
            "grid_template_areas": null,
            "grid_template_columns": null,
            "grid_template_rows": null,
            "height": null,
            "justify_content": null,
            "justify_items": null,
            "left": null,
            "margin": null,
            "max_height": null,
            "max_width": null,
            "min_height": null,
            "min_width": null,
            "object_fit": null,
            "object_position": null,
            "order": null,
            "overflow": null,
            "overflow_x": null,
            "overflow_y": null,
            "padding": null,
            "right": null,
            "top": null,
            "visibility": null,
            "width": null
          }
        },
        "5c0840e9cfb24dfb95e8b75e090f5005": {
          "model_module": "@jupyter-widgets/controls",
          "model_name": "DescriptionStyleModel",
          "model_module_version": "1.5.0",
          "state": {
            "_model_module": "@jupyter-widgets/controls",
            "_model_module_version": "1.5.0",
            "_model_name": "DescriptionStyleModel",
            "_view_count": null,
            "_view_module": "@jupyter-widgets/base",
            "_view_module_version": "1.2.0",
            "_view_name": "StyleView",
            "description_width": ""
          }
        },
        "050a242dac7d477eae84b1c490cce3c9": {
          "model_module": "@jupyter-widgets/base",
          "model_name": "LayoutModel",
          "model_module_version": "1.2.0",
          "state": {
            "_model_module": "@jupyter-widgets/base",
            "_model_module_version": "1.2.0",
            "_model_name": "LayoutModel",
            "_view_count": null,
            "_view_module": "@jupyter-widgets/base",
            "_view_module_version": "1.2.0",
            "_view_name": "LayoutView",
            "align_content": null,
            "align_items": null,
            "align_self": null,
            "border": null,
            "bottom": null,
            "display": null,
            "flex": null,
            "flex_flow": null,
            "grid_area": null,
            "grid_auto_columns": null,
            "grid_auto_flow": null,
            "grid_auto_rows": null,
            "grid_column": null,
            "grid_gap": null,
            "grid_row": null,
            "grid_template_areas": null,
            "grid_template_columns": null,
            "grid_template_rows": null,
            "height": null,
            "justify_content": null,
            "justify_items": null,
            "left": null,
            "margin": null,
            "max_height": null,
            "max_width": null,
            "min_height": null,
            "min_width": null,
            "object_fit": null,
            "object_position": null,
            "order": null,
            "overflow": null,
            "overflow_x": null,
            "overflow_y": null,
            "padding": null,
            "right": null,
            "top": null,
            "visibility": null,
            "width": null
          }
        },
        "868fd19e03d243c7a435c867d41224dd": {
          "model_module": "@jupyter-widgets/controls",
          "model_name": "ProgressStyleModel",
          "model_module_version": "1.5.0",
          "state": {
            "_model_module": "@jupyter-widgets/controls",
            "_model_module_version": "1.5.0",
            "_model_name": "ProgressStyleModel",
            "_view_count": null,
            "_view_module": "@jupyter-widgets/base",
            "_view_module_version": "1.2.0",
            "_view_name": "StyleView",
            "bar_color": null,
            "description_width": ""
          }
        },
        "417ab8c028d64af588a83af2d8d3fca2": {
          "model_module": "@jupyter-widgets/base",
          "model_name": "LayoutModel",
          "model_module_version": "1.2.0",
          "state": {
            "_model_module": "@jupyter-widgets/base",
            "_model_module_version": "1.2.0",
            "_model_name": "LayoutModel",
            "_view_count": null,
            "_view_module": "@jupyter-widgets/base",
            "_view_module_version": "1.2.0",
            "_view_name": "LayoutView",
            "align_content": null,
            "align_items": null,
            "align_self": null,
            "border": null,
            "bottom": null,
            "display": null,
            "flex": null,
            "flex_flow": null,
            "grid_area": null,
            "grid_auto_columns": null,
            "grid_auto_flow": null,
            "grid_auto_rows": null,
            "grid_column": null,
            "grid_gap": null,
            "grid_row": null,
            "grid_template_areas": null,
            "grid_template_columns": null,
            "grid_template_rows": null,
            "height": null,
            "justify_content": null,
            "justify_items": null,
            "left": null,
            "margin": null,
            "max_height": null,
            "max_width": null,
            "min_height": null,
            "min_width": null,
            "object_fit": null,
            "object_position": null,
            "order": null,
            "overflow": null,
            "overflow_x": null,
            "overflow_y": null,
            "padding": null,
            "right": null,
            "top": null,
            "visibility": null,
            "width": null
          }
        },
        "fb66bd267cf0462fbf9b7e83f25d02af": {
          "model_module": "@jupyter-widgets/controls",
          "model_name": "DescriptionStyleModel",
          "model_module_version": "1.5.0",
          "state": {
            "_model_module": "@jupyter-widgets/controls",
            "_model_module_version": "1.5.0",
            "_model_name": "DescriptionStyleModel",
            "_view_count": null,
            "_view_module": "@jupyter-widgets/base",
            "_view_module_version": "1.2.0",
            "_view_name": "StyleView",
            "description_width": ""
          }
        },
        "a0b8b2000fba4871ace9eb1bcabd6f0f": {
          "model_module": "@jupyter-widgets/controls",
          "model_name": "HBoxModel",
          "model_module_version": "1.5.0",
          "state": {
            "_dom_classes": [],
            "_model_module": "@jupyter-widgets/controls",
            "_model_module_version": "1.5.0",
            "_model_name": "HBoxModel",
            "_view_count": null,
            "_view_module": "@jupyter-widgets/controls",
            "_view_module_version": "1.5.0",
            "_view_name": "HBoxView",
            "box_style": "",
            "children": [
              "IPY_MODEL_358b139316b2413384f1c1e51b661fbb",
              "IPY_MODEL_a933e1f6c3844c6aac6772aeba853c95",
              "IPY_MODEL_e5bfb6b3d37c4426b5b9039ae03c0435"
            ],
            "layout": "IPY_MODEL_080ab11724564301a39b1de8aa07d554"
          }
        },
        "358b139316b2413384f1c1e51b661fbb": {
          "model_module": "@jupyter-widgets/controls",
          "model_name": "HTMLModel",
          "model_module_version": "1.5.0",
          "state": {
            "_dom_classes": [],
            "_model_module": "@jupyter-widgets/controls",
            "_model_module_version": "1.5.0",
            "_model_name": "HTMLModel",
            "_view_count": null,
            "_view_module": "@jupyter-widgets/controls",
            "_view_module_version": "1.5.0",
            "_view_name": "HTMLView",
            "description": "",
            "description_tooltip": null,
            "layout": "IPY_MODEL_e878e36ad8954eac948c6dc52627ddb8",
            "placeholder": "​",
            "style": "IPY_MODEL_2b7d57a7f1584bc7aee647511954b049",
            "value": "Batches: 100%"
          }
        },
        "a933e1f6c3844c6aac6772aeba853c95": {
          "model_module": "@jupyter-widgets/controls",
          "model_name": "FloatProgressModel",
          "model_module_version": "1.5.0",
          "state": {
            "_dom_classes": [],
            "_model_module": "@jupyter-widgets/controls",
            "_model_module_version": "1.5.0",
            "_model_name": "FloatProgressModel",
            "_view_count": null,
            "_view_module": "@jupyter-widgets/controls",
            "_view_module_version": "1.5.0",
            "_view_name": "ProgressView",
            "bar_style": "success",
            "description": "",
            "description_tooltip": null,
            "layout": "IPY_MODEL_07af4f9aac374debbb5cdc27b54435a9",
            "max": 51,
            "min": 0,
            "orientation": "horizontal",
            "style": "IPY_MODEL_c7a06dcfde8c4f39a8d8d359c84888df",
            "value": 51
          }
        },
        "e5bfb6b3d37c4426b5b9039ae03c0435": {
          "model_module": "@jupyter-widgets/controls",
          "model_name": "HTMLModel",
          "model_module_version": "1.5.0",
          "state": {
            "_dom_classes": [],
            "_model_module": "@jupyter-widgets/controls",
            "_model_module_version": "1.5.0",
            "_model_name": "HTMLModel",
            "_view_count": null,
            "_view_module": "@jupyter-widgets/controls",
            "_view_module_version": "1.5.0",
            "_view_name": "HTMLView",
            "description": "",
            "description_tooltip": null,
            "layout": "IPY_MODEL_46f742c842364d4b9cfab8e589a2b1f8",
            "placeholder": "​",
            "style": "IPY_MODEL_2403556515bc4ad79e07764d88c05947",
            "value": " 51/51 [00:01&lt;00:00, 45.05it/s]"
          }
        },
        "080ab11724564301a39b1de8aa07d554": {
          "model_module": "@jupyter-widgets/base",
          "model_name": "LayoutModel",
          "model_module_version": "1.2.0",
          "state": {
            "_model_module": "@jupyter-widgets/base",
            "_model_module_version": "1.2.0",
            "_model_name": "LayoutModel",
            "_view_count": null,
            "_view_module": "@jupyter-widgets/base",
            "_view_module_version": "1.2.0",
            "_view_name": "LayoutView",
            "align_content": null,
            "align_items": null,
            "align_self": null,
            "border": null,
            "bottom": null,
            "display": null,
            "flex": null,
            "flex_flow": null,
            "grid_area": null,
            "grid_auto_columns": null,
            "grid_auto_flow": null,
            "grid_auto_rows": null,
            "grid_column": null,
            "grid_gap": null,
            "grid_row": null,
            "grid_template_areas": null,
            "grid_template_columns": null,
            "grid_template_rows": null,
            "height": null,
            "justify_content": null,
            "justify_items": null,
            "left": null,
            "margin": null,
            "max_height": null,
            "max_width": null,
            "min_height": null,
            "min_width": null,
            "object_fit": null,
            "object_position": null,
            "order": null,
            "overflow": null,
            "overflow_x": null,
            "overflow_y": null,
            "padding": null,
            "right": null,
            "top": null,
            "visibility": null,
            "width": null
          }
        },
        "e878e36ad8954eac948c6dc52627ddb8": {
          "model_module": "@jupyter-widgets/base",
          "model_name": "LayoutModel",
          "model_module_version": "1.2.0",
          "state": {
            "_model_module": "@jupyter-widgets/base",
            "_model_module_version": "1.2.0",
            "_model_name": "LayoutModel",
            "_view_count": null,
            "_view_module": "@jupyter-widgets/base",
            "_view_module_version": "1.2.0",
            "_view_name": "LayoutView",
            "align_content": null,
            "align_items": null,
            "align_self": null,
            "border": null,
            "bottom": null,
            "display": null,
            "flex": null,
            "flex_flow": null,
            "grid_area": null,
            "grid_auto_columns": null,
            "grid_auto_flow": null,
            "grid_auto_rows": null,
            "grid_column": null,
            "grid_gap": null,
            "grid_row": null,
            "grid_template_areas": null,
            "grid_template_columns": null,
            "grid_template_rows": null,
            "height": null,
            "justify_content": null,
            "justify_items": null,
            "left": null,
            "margin": null,
            "max_height": null,
            "max_width": null,
            "min_height": null,
            "min_width": null,
            "object_fit": null,
            "object_position": null,
            "order": null,
            "overflow": null,
            "overflow_x": null,
            "overflow_y": null,
            "padding": null,
            "right": null,
            "top": null,
            "visibility": null,
            "width": null
          }
        },
        "2b7d57a7f1584bc7aee647511954b049": {
          "model_module": "@jupyter-widgets/controls",
          "model_name": "DescriptionStyleModel",
          "model_module_version": "1.5.0",
          "state": {
            "_model_module": "@jupyter-widgets/controls",
            "_model_module_version": "1.5.0",
            "_model_name": "DescriptionStyleModel",
            "_view_count": null,
            "_view_module": "@jupyter-widgets/base",
            "_view_module_version": "1.2.0",
            "_view_name": "StyleView",
            "description_width": ""
          }
        },
        "07af4f9aac374debbb5cdc27b54435a9": {
          "model_module": "@jupyter-widgets/base",
          "model_name": "LayoutModel",
          "model_module_version": "1.2.0",
          "state": {
            "_model_module": "@jupyter-widgets/base",
            "_model_module_version": "1.2.0",
            "_model_name": "LayoutModel",
            "_view_count": null,
            "_view_module": "@jupyter-widgets/base",
            "_view_module_version": "1.2.0",
            "_view_name": "LayoutView",
            "align_content": null,
            "align_items": null,
            "align_self": null,
            "border": null,
            "bottom": null,
            "display": null,
            "flex": null,
            "flex_flow": null,
            "grid_area": null,
            "grid_auto_columns": null,
            "grid_auto_flow": null,
            "grid_auto_rows": null,
            "grid_column": null,
            "grid_gap": null,
            "grid_row": null,
            "grid_template_areas": null,
            "grid_template_columns": null,
            "grid_template_rows": null,
            "height": null,
            "justify_content": null,
            "justify_items": null,
            "left": null,
            "margin": null,
            "max_height": null,
            "max_width": null,
            "min_height": null,
            "min_width": null,
            "object_fit": null,
            "object_position": null,
            "order": null,
            "overflow": null,
            "overflow_x": null,
            "overflow_y": null,
            "padding": null,
            "right": null,
            "top": null,
            "visibility": null,
            "width": null
          }
        },
        "c7a06dcfde8c4f39a8d8d359c84888df": {
          "model_module": "@jupyter-widgets/controls",
          "model_name": "ProgressStyleModel",
          "model_module_version": "1.5.0",
          "state": {
            "_model_module": "@jupyter-widgets/controls",
            "_model_module_version": "1.5.0",
            "_model_name": "ProgressStyleModel",
            "_view_count": null,
            "_view_module": "@jupyter-widgets/base",
            "_view_module_version": "1.2.0",
            "_view_name": "StyleView",
            "bar_color": null,
            "description_width": ""
          }
        },
        "46f742c842364d4b9cfab8e589a2b1f8": {
          "model_module": "@jupyter-widgets/base",
          "model_name": "LayoutModel",
          "model_module_version": "1.2.0",
          "state": {
            "_model_module": "@jupyter-widgets/base",
            "_model_module_version": "1.2.0",
            "_model_name": "LayoutModel",
            "_view_count": null,
            "_view_module": "@jupyter-widgets/base",
            "_view_module_version": "1.2.0",
            "_view_name": "LayoutView",
            "align_content": null,
            "align_items": null,
            "align_self": null,
            "border": null,
            "bottom": null,
            "display": null,
            "flex": null,
            "flex_flow": null,
            "grid_area": null,
            "grid_auto_columns": null,
            "grid_auto_flow": null,
            "grid_auto_rows": null,
            "grid_column": null,
            "grid_gap": null,
            "grid_row": null,
            "grid_template_areas": null,
            "grid_template_columns": null,
            "grid_template_rows": null,
            "height": null,
            "justify_content": null,
            "justify_items": null,
            "left": null,
            "margin": null,
            "max_height": null,
            "max_width": null,
            "min_height": null,
            "min_width": null,
            "object_fit": null,
            "object_position": null,
            "order": null,
            "overflow": null,
            "overflow_x": null,
            "overflow_y": null,
            "padding": null,
            "right": null,
            "top": null,
            "visibility": null,
            "width": null
          }
        },
        "2403556515bc4ad79e07764d88c05947": {
          "model_module": "@jupyter-widgets/controls",
          "model_name": "DescriptionStyleModel",
          "model_module_version": "1.5.0",
          "state": {
            "_model_module": "@jupyter-widgets/controls",
            "_model_module_version": "1.5.0",
            "_model_name": "DescriptionStyleModel",
            "_view_count": null,
            "_view_module": "@jupyter-widgets/base",
            "_view_module_version": "1.2.0",
            "_view_name": "StyleView",
            "description_width": ""
          }
        }
      }
    }
  },
  "cells": [
    {
      "cell_type": "markdown",
      "metadata": {
        "id": "view-in-github",
        "colab_type": "text"
      },
      "source": [
        "<a href=\"https://colab.research.google.com/github/lucas-bruzzone/Recipes-Dataset-64k-Dishes/blob/main/Recipe_RAG_System.ipynb\" target=\"_parent\"><img src=\"https://colab.research.google.com/assets/colab-badge.svg\" alt=\"Open In Colab\"/></a>"
      ]
    },
    {
      "cell_type": "markdown",
      "metadata": {
        "id": "header"
      },
      "source": [
        "# Recipe RAG System\n",
        "**Retrieval-Augmented Generation para Receitas Culinárias**\n",
        "\n",
        "Sistema completo que:\n",
        "- Busca receitas similares por embeddings semânticos\n",
        "- Sugere ingredientes complementares\n",
        "- Gera receitas completas com LLM\n",
        "- Respeita categorias e restrições alimentares"
      ]
    },
    {
      "cell_type": "markdown",
      "metadata": {
        "id": "setup"
      },
      "source": [
        "## Setup e Instalação"
      ]
    },
    {
      "cell_type": "code",
      "metadata": {
        "id": "install"
      },
      "source": [
        "!pip install -q sentence-transformers transformers torch scikit-learn"
      ],
      "execution_count": null,
      "outputs": []
    },
    {
      "cell_type": "code",
      "metadata": {
        "id": "imports",
        "colab": {
          "base_uri": "https://localhost:8080/"
        },
        "outputId": "1a39ffbe-8619-4f37-87c7-81b56b342a8e"
      },
      "source": [
        "import pandas as pd\n",
        "import numpy as np\n",
        "import json\n",
        "import re\n",
        "from collections import Counter, defaultdict\n",
        "from itertools import combinations\n",
        "import warnings\n",
        "warnings.filterwarnings('ignore')\n",
        "\n",
        "from sentence_transformers import SentenceTransformer\n",
        "from sklearn.metrics.pairwise import cosine_similarity\n",
        "from transformers import AutoTokenizer, AutoModelForCausalLM, pipeline, AutoModelForSeq2SeqLM\n",
        "import torch\n",
        "\n",
        "print(\"✓ Imports completos\")"
      ],
      "execution_count": null,
      "outputs": [
        {
          "output_type": "stream",
          "name": "stdout",
          "text": [
            "✓ Imports completos\n"
          ]
        }
      ]
    },
    {
      "cell_type": "markdown",
      "metadata": {
        "id": "mount"
      },
      "source": [
        "## Montagem do Drive e Carregamento"
      ]
    },
    {
      "cell_type": "code",
      "metadata": {
        "id": "drive",
        "colab": {
          "base_uri": "https://localhost:8080/"
        },
        "outputId": "d0f26bbd-c266-476f-9fd3-9a250cfcbaab"
      },
      "source": [
        "from google.colab import drive\n",
        "drive.mount('/content/drive')"
      ],
      "execution_count": null,
      "outputs": [
        {
          "output_type": "stream",
          "name": "stdout",
          "text": [
            "Drive already mounted at /content/drive; to attempt to forcibly remount, call drive.mount(\"/content/drive\", force_remount=True).\n"
          ]
        }
      ]
    },
    {
      "cell_type": "code",
      "metadata": {
        "id": "load_data",
        "colab": {
          "base_uri": "https://localhost:8080/",
          "height": 310
        },
        "outputId": "d5355fd3-e1d7-4739-f3ee-b8a1a0dd4bf5"
      },
      "source": [
        "dataset_path = '/content/drive/MyDrive/Colab Notebooks/Recipes Dataset : 64k Dishes/dataset/1_Recipe_csv.csv'\n",
        "df = pd.read_csv(dataset_path)\n",
        "\n",
        "print(f\"Dataset carregado: {len(df)} receitas\")\n",
        "display(df.head())"
      ],
      "execution_count": null,
      "outputs": [
        {
          "output_type": "stream",
          "name": "stdout",
          "text": [
            "Dataset carregado: 62126 receitas\n"
          ]
        },
        {
          "output_type": "display_data",
          "data": {
            "text/plain": [
              "                                        recipe_title           category  \\\n",
              "0         Air Fryer Potato Slices with Dipping Sauce  Air Fryer Recipes   \n",
              "1                         Gochujang Pork Belly Bites  Air Fryer Recipes   \n",
              "2  3-Ingredient Air Fryer Everything Bagel Chicke...  Air Fryer Recipes   \n",
              "3         Air Fryer Everything Bagel Chicken Cutlets  Air Fryer Recipes   \n",
              "4              Air Fryer Honey Sriracha Salmon Bites  Air Fryer Recipes   \n",
              "\n",
              "         subcategory                                        description  \\\n",
              "0  Air Fryer Recipes  These air fryer potato slices, served with a b...   \n",
              "1  Air Fryer Recipes  These gochujang pork belly bites are sweet and...   \n",
              "2  Air Fryer Recipes  These 3-ingredient air fryer everything bagel ...   \n",
              "3  Air Fryer Recipes  These air fryer everything bagel chicken cutle...   \n",
              "4  Air Fryer Recipes  These air fryer honey Sriracha salmon bites ar...   \n",
              "\n",
              "                                         ingredients  \\\n",
              "0  [\"3/4 cup ketchup\", \"1/2 cup beer\", \"1 tablesp...   \n",
              "1  [\"1 pound pork belly\", \"1/4 cup gochujang\", \"2...   \n",
              "2  [\"1 \\u00bc pounds chicken tenders\", \"1 tablesp...   \n",
              "3  [\"4 chicken cutlets (about 1 pound total)\", \"s...   \n",
              "4  [\"1 tablespoon soy sauce\", \"1 tablespoon honey...   \n",
              "\n",
              "                                          directions  num_ingredients  \\\n",
              "0  [\"Combine ketchup, beer, Worcestershire sauce,...                9   \n",
              "1  [\"Preheat an air fryer to 400 degrees F (200 d...                5   \n",
              "2  [\"Gather all ingredients. Preheat an air fryer...                3   \n",
              "3  [\"Preheat an air fryer to 400 degrees F (200 d...                9   \n",
              "4  [\"Preheat an air fryer to 400 degrees F (200 d...                5   \n",
              "\n",
              "   num_steps  \n",
              "0          5  \n",
              "1          4  \n",
              "2          4  \n",
              "3          9  \n",
              "4          5  "
            ],
            "text/html": [
              "\n",
              "  <div id=\"df-4dd30c91-635a-4652-a605-37af516fb439\" class=\"colab-df-container\">\n",
              "    <div>\n",
              "<style scoped>\n",
              "    .dataframe tbody tr th:only-of-type {\n",
              "        vertical-align: middle;\n",
              "    }\n",
              "\n",
              "    .dataframe tbody tr th {\n",
              "        vertical-align: top;\n",
              "    }\n",
              "\n",
              "    .dataframe thead th {\n",
              "        text-align: right;\n",
              "    }\n",
              "</style>\n",
              "<table border=\"1\" class=\"dataframe\">\n",
              "  <thead>\n",
              "    <tr style=\"text-align: right;\">\n",
              "      <th></th>\n",
              "      <th>recipe_title</th>\n",
              "      <th>category</th>\n",
              "      <th>subcategory</th>\n",
              "      <th>description</th>\n",
              "      <th>ingredients</th>\n",
              "      <th>directions</th>\n",
              "      <th>num_ingredients</th>\n",
              "      <th>num_steps</th>\n",
              "    </tr>\n",
              "  </thead>\n",
              "  <tbody>\n",
              "    <tr>\n",
              "      <th>0</th>\n",
              "      <td>Air Fryer Potato Slices with Dipping Sauce</td>\n",
              "      <td>Air Fryer Recipes</td>\n",
              "      <td>Air Fryer Recipes</td>\n",
              "      <td>These air fryer potato slices, served with a b...</td>\n",
              "      <td>[\"3/4 cup ketchup\", \"1/2 cup beer\", \"1 tablesp...</td>\n",
              "      <td>[\"Combine ketchup, beer, Worcestershire sauce,...</td>\n",
              "      <td>9</td>\n",
              "      <td>5</td>\n",
              "    </tr>\n",
              "    <tr>\n",
              "      <th>1</th>\n",
              "      <td>Gochujang Pork Belly Bites</td>\n",
              "      <td>Air Fryer Recipes</td>\n",
              "      <td>Air Fryer Recipes</td>\n",
              "      <td>These gochujang pork belly bites are sweet and...</td>\n",
              "      <td>[\"1 pound pork belly\", \"1/4 cup gochujang\", \"2...</td>\n",
              "      <td>[\"Preheat an air fryer to 400 degrees F (200 d...</td>\n",
              "      <td>5</td>\n",
              "      <td>4</td>\n",
              "    </tr>\n",
              "    <tr>\n",
              "      <th>2</th>\n",
              "      <td>3-Ingredient Air Fryer Everything Bagel Chicke...</td>\n",
              "      <td>Air Fryer Recipes</td>\n",
              "      <td>Air Fryer Recipes</td>\n",
              "      <td>These 3-ingredient air fryer everything bagel ...</td>\n",
              "      <td>[\"1 \\u00bc pounds chicken tenders\", \"1 tablesp...</td>\n",
              "      <td>[\"Gather all ingredients. Preheat an air fryer...</td>\n",
              "      <td>3</td>\n",
              "      <td>4</td>\n",
              "    </tr>\n",
              "    <tr>\n",
              "      <th>3</th>\n",
              "      <td>Air Fryer Everything Bagel Chicken Cutlets</td>\n",
              "      <td>Air Fryer Recipes</td>\n",
              "      <td>Air Fryer Recipes</td>\n",
              "      <td>These air fryer everything bagel chicken cutle...</td>\n",
              "      <td>[\"4 chicken cutlets (about 1 pound total)\", \"s...</td>\n",
              "      <td>[\"Preheat an air fryer to 400 degrees F (200 d...</td>\n",
              "      <td>9</td>\n",
              "      <td>9</td>\n",
              "    </tr>\n",
              "    <tr>\n",
              "      <th>4</th>\n",
              "      <td>Air Fryer Honey Sriracha Salmon Bites</td>\n",
              "      <td>Air Fryer Recipes</td>\n",
              "      <td>Air Fryer Recipes</td>\n",
              "      <td>These air fryer honey Sriracha salmon bites ar...</td>\n",
              "      <td>[\"1 tablespoon soy sauce\", \"1 tablespoon honey...</td>\n",
              "      <td>[\"Preheat an air fryer to 400 degrees F (200 d...</td>\n",
              "      <td>5</td>\n",
              "      <td>5</td>\n",
              "    </tr>\n",
              "  </tbody>\n",
              "</table>\n",
              "</div>\n",
              "    <div class=\"colab-df-buttons\">\n",
              "\n",
              "  <div class=\"colab-df-container\">\n",
              "    <button class=\"colab-df-convert\" onclick=\"convertToInteractive('df-4dd30c91-635a-4652-a605-37af516fb439')\"\n",
              "            title=\"Convert this dataframe to an interactive table.\"\n",
              "            style=\"display:none;\">\n",
              "\n",
              "  <svg xmlns=\"http://www.w3.org/2000/svg\" height=\"24px\" viewBox=\"0 -960 960 960\">\n",
              "    <path d=\"M120-120v-720h720v720H120Zm60-500h600v-160H180v160Zm220 220h160v-160H400v160Zm0 220h160v-160H400v160ZM180-400h160v-160H180v160Zm440 0h160v-160H620v160ZM180-180h160v-160H180v160Zm440 0h160v-160H620v160Z\"/>\n",
              "  </svg>\n",
              "    </button>\n",
              "\n",
              "  <style>\n",
              "    .colab-df-container {\n",
              "      display:flex;\n",
              "      gap: 12px;\n",
              "    }\n",
              "\n",
              "    .colab-df-convert {\n",
              "      background-color: #E8F0FE;\n",
              "      border: none;\n",
              "      border-radius: 50%;\n",
              "      cursor: pointer;\n",
              "      display: none;\n",
              "      fill: #1967D2;\n",
              "      height: 32px;\n",
              "      padding: 0 0 0 0;\n",
              "      width: 32px;\n",
              "    }\n",
              "\n",
              "    .colab-df-convert:hover {\n",
              "      background-color: #E2EBFA;\n",
              "      box-shadow: 0px 1px 2px rgba(60, 64, 67, 0.3), 0px 1px 3px 1px rgba(60, 64, 67, 0.15);\n",
              "      fill: #174EA6;\n",
              "    }\n",
              "\n",
              "    .colab-df-buttons div {\n",
              "      margin-bottom: 4px;\n",
              "    }\n",
              "\n",
              "    [theme=dark] .colab-df-convert {\n",
              "      background-color: #3B4455;\n",
              "      fill: #D2E3FC;\n",
              "    }\n",
              "\n",
              "    [theme=dark] .colab-df-convert:hover {\n",
              "      background-color: #434B5C;\n",
              "      box-shadow: 0px 1px 3px 1px rgba(0, 0, 0, 0.15);\n",
              "      filter: drop-shadow(0px 1px 2px rgba(0, 0, 0, 0.3));\n",
              "      fill: #FFFFFF;\n",
              "    }\n",
              "  </style>\n",
              "\n",
              "    <script>\n",
              "      const buttonEl =\n",
              "        document.querySelector('#df-4dd30c91-635a-4652-a605-37af516fb439 button.colab-df-convert');\n",
              "      buttonEl.style.display =\n",
              "        google.colab.kernel.accessAllowed ? 'block' : 'none';\n",
              "\n",
              "      async function convertToInteractive(key) {\n",
              "        const element = document.querySelector('#df-4dd30c91-635a-4652-a605-37af516fb439');\n",
              "        const dataTable =\n",
              "          await google.colab.kernel.invokeFunction('convertToInteractive',\n",
              "                                                    [key], {});\n",
              "        if (!dataTable) return;\n",
              "\n",
              "        const docLinkHtml = 'Like what you see? Visit the ' +\n",
              "          '<a target=\"_blank\" href=https://colab.research.google.com/notebooks/data_table.ipynb>data table notebook</a>'\n",
              "          + ' to learn more about interactive tables.';\n",
              "        element.innerHTML = '';\n",
              "        dataTable['output_type'] = 'display_data';\n",
              "        await google.colab.output.renderOutput(dataTable, element);\n",
              "        const docLink = document.createElement('div');\n",
              "        docLink.innerHTML = docLinkHtml;\n",
              "        element.appendChild(docLink);\n",
              "      }\n",
              "    </script>\n",
              "  </div>\n",
              "\n",
              "\n",
              "    <div id=\"df-f7a34876-ae5e-4e02-a04e-5ea97555bace\">\n",
              "      <button class=\"colab-df-quickchart\" onclick=\"quickchart('df-f7a34876-ae5e-4e02-a04e-5ea97555bace')\"\n",
              "                title=\"Suggest charts\"\n",
              "                style=\"display:none;\">\n",
              "\n",
              "<svg xmlns=\"http://www.w3.org/2000/svg\" height=\"24px\"viewBox=\"0 0 24 24\"\n",
              "     width=\"24px\">\n",
              "    <g>\n",
              "        <path d=\"M19 3H5c-1.1 0-2 .9-2 2v14c0 1.1.9 2 2 2h14c1.1 0 2-.9 2-2V5c0-1.1-.9-2-2-2zM9 17H7v-7h2v7zm4 0h-2V7h2v10zm4 0h-2v-4h2v4z\"/>\n",
              "    </g>\n",
              "</svg>\n",
              "      </button>\n",
              "\n",
              "<style>\n",
              "  .colab-df-quickchart {\n",
              "      --bg-color: #E8F0FE;\n",
              "      --fill-color: #1967D2;\n",
              "      --hover-bg-color: #E2EBFA;\n",
              "      --hover-fill-color: #174EA6;\n",
              "      --disabled-fill-color: #AAA;\n",
              "      --disabled-bg-color: #DDD;\n",
              "  }\n",
              "\n",
              "  [theme=dark] .colab-df-quickchart {\n",
              "      --bg-color: #3B4455;\n",
              "      --fill-color: #D2E3FC;\n",
              "      --hover-bg-color: #434B5C;\n",
              "      --hover-fill-color: #FFFFFF;\n",
              "      --disabled-bg-color: #3B4455;\n",
              "      --disabled-fill-color: #666;\n",
              "  }\n",
              "\n",
              "  .colab-df-quickchart {\n",
              "    background-color: var(--bg-color);\n",
              "    border: none;\n",
              "    border-radius: 50%;\n",
              "    cursor: pointer;\n",
              "    display: none;\n",
              "    fill: var(--fill-color);\n",
              "    height: 32px;\n",
              "    padding: 0;\n",
              "    width: 32px;\n",
              "  }\n",
              "\n",
              "  .colab-df-quickchart:hover {\n",
              "    background-color: var(--hover-bg-color);\n",
              "    box-shadow: 0 1px 2px rgba(60, 64, 67, 0.3), 0 1px 3px 1px rgba(60, 64, 67, 0.15);\n",
              "    fill: var(--button-hover-fill-color);\n",
              "  }\n",
              "\n",
              "  .colab-df-quickchart-complete:disabled,\n",
              "  .colab-df-quickchart-complete:disabled:hover {\n",
              "    background-color: var(--disabled-bg-color);\n",
              "    fill: var(--disabled-fill-color);\n",
              "    box-shadow: none;\n",
              "  }\n",
              "\n",
              "  .colab-df-spinner {\n",
              "    border: 2px solid var(--fill-color);\n",
              "    border-color: transparent;\n",
              "    border-bottom-color: var(--fill-color);\n",
              "    animation:\n",
              "      spin 1s steps(1) infinite;\n",
              "  }\n",
              "\n",
              "  @keyframes spin {\n",
              "    0% {\n",
              "      border-color: transparent;\n",
              "      border-bottom-color: var(--fill-color);\n",
              "      border-left-color: var(--fill-color);\n",
              "    }\n",
              "    20% {\n",
              "      border-color: transparent;\n",
              "      border-left-color: var(--fill-color);\n",
              "      border-top-color: var(--fill-color);\n",
              "    }\n",
              "    30% {\n",
              "      border-color: transparent;\n",
              "      border-left-color: var(--fill-color);\n",
              "      border-top-color: var(--fill-color);\n",
              "      border-right-color: var(--fill-color);\n",
              "    }\n",
              "    40% {\n",
              "      border-color: transparent;\n",
              "      border-right-color: var(--fill-color);\n",
              "      border-top-color: var(--fill-color);\n",
              "    }\n",
              "    60% {\n",
              "      border-color: transparent;\n",
              "      border-right-color: var(--fill-color);\n",
              "    }\n",
              "    80% {\n",
              "      border-color: transparent;\n",
              "      border-right-color: var(--fill-color);\n",
              "      border-bottom-color: var(--fill-color);\n",
              "    }\n",
              "    90% {\n",
              "      border-color: transparent;\n",
              "      border-bottom-color: var(--fill-color);\n",
              "    }\n",
              "  }\n",
              "</style>\n",
              "\n",
              "      <script>\n",
              "        async function quickchart(key) {\n",
              "          const quickchartButtonEl =\n",
              "            document.querySelector('#' + key + ' button');\n",
              "          quickchartButtonEl.disabled = true;  // To prevent multiple clicks.\n",
              "          quickchartButtonEl.classList.add('colab-df-spinner');\n",
              "          try {\n",
              "            const charts = await google.colab.kernel.invokeFunction(\n",
              "                'suggestCharts', [key], {});\n",
              "          } catch (error) {\n",
              "            console.error('Error during call to suggestCharts:', error);\n",
              "          }\n",
              "          quickchartButtonEl.classList.remove('colab-df-spinner');\n",
              "          quickchartButtonEl.classList.add('colab-df-quickchart-complete');\n",
              "        }\n",
              "        (() => {\n",
              "          let quickchartButtonEl =\n",
              "            document.querySelector('#df-f7a34876-ae5e-4e02-a04e-5ea97555bace button');\n",
              "          quickchartButtonEl.style.display =\n",
              "            google.colab.kernel.accessAllowed ? 'block' : 'none';\n",
              "        })();\n",
              "      </script>\n",
              "    </div>\n",
              "\n",
              "    </div>\n",
              "  </div>\n"
            ],
            "application/vnd.google.colaboratory.intrinsic+json": {
              "type": "dataframe",
              "summary": "{\n  \"name\": \"display(df\",\n  \"rows\": 5,\n  \"fields\": [\n    {\n      \"column\": \"recipe_title\",\n      \"properties\": {\n        \"dtype\": \"string\",\n        \"num_unique_values\": 5,\n        \"samples\": [\n          \"Gochujang Pork Belly Bites\",\n          \"Air Fryer Honey Sriracha Salmon Bites\",\n          \"3-Ingredient Air Fryer Everything Bagel Chicken Strips\"\n        ],\n        \"semantic_type\": \"\",\n        \"description\": \"\"\n      }\n    },\n    {\n      \"column\": \"category\",\n      \"properties\": {\n        \"dtype\": \"category\",\n        \"num_unique_values\": 1,\n        \"samples\": [\n          \"Air Fryer Recipes\"\n        ],\n        \"semantic_type\": \"\",\n        \"description\": \"\"\n      }\n    },\n    {\n      \"column\": \"subcategory\",\n      \"properties\": {\n        \"dtype\": \"category\",\n        \"num_unique_values\": 1,\n        \"samples\": [\n          \"Air Fryer Recipes\"\n        ],\n        \"semantic_type\": \"\",\n        \"description\": \"\"\n      }\n    },\n    {\n      \"column\": \"description\",\n      \"properties\": {\n        \"dtype\": \"string\",\n        \"num_unique_values\": 5,\n        \"samples\": [\n          \"These gochujang pork belly bites are sweet and spicy, crispy and crunchy, and absolutely delicious. Whether you finish them with the gochujang sauce in the air fryer, or just dip them in the sauce at the end, they are irresistibly good.\"\n        ],\n        \"semantic_type\": \"\",\n        \"description\": \"\"\n      }\n    },\n    {\n      \"column\": \"ingredients\",\n      \"properties\": {\n        \"dtype\": \"string\",\n        \"num_unique_values\": 5,\n        \"samples\": [\n          \"[\\\"1 pound pork belly\\\", \\\"1/4 cup gochujang\\\", \\\"2 tablespoons soy sauce\\\", \\\"1 tablespoon honey,\\\", \\\"1 teaspoon ground ginger\\\"]\"\n        ],\n        \"semantic_type\": \"\",\n        \"description\": \"\"\n      }\n    },\n    {\n      \"column\": \"directions\",\n      \"properties\": {\n        \"dtype\": \"string\",\n        \"num_unique_values\": 5,\n        \"samples\": [\n          \"[\\\"Preheat an air fryer to 400 degrees F (200 degrees C).\\\", \\\"Place pork belly pieces in the basket in a single layer, not touching. Air fry for 8 to 9 minutes; turn over and air fry for 6 to 7 minutes more.\\\", \\\"Meanwhile, for sauce, stir gochujang, soy sauce, hot honey, and ginger together in a medium bowl.\\\", \\\"Remove pork belly from air fryer basket; toss in sauce to coat. Return to the air fryer and fry until bites begin to char at the edges, 8 to 11 minutes more. (Alternately, you can use sauce only for dipping; in this case, continue to fry without removing bites, until they begin to char, 6 to 7 minutes.)\\\"]\"\n        ],\n        \"semantic_type\": \"\",\n        \"description\": \"\"\n      }\n    },\n    {\n      \"column\": \"num_ingredients\",\n      \"properties\": {\n        \"dtype\": \"number\",\n        \"std\": 2,\n        \"min\": 3,\n        \"max\": 9,\n        \"num_unique_values\": 3,\n        \"samples\": [\n          9\n        ],\n        \"semantic_type\": \"\",\n        \"description\": \"\"\n      }\n    },\n    {\n      \"column\": \"num_steps\",\n      \"properties\": {\n        \"dtype\": \"number\",\n        \"std\": 2,\n        \"min\": 4,\n        \"max\": 9,\n        \"num_unique_values\": 3,\n        \"samples\": [\n          5\n        ],\n        \"semantic_type\": \"\",\n        \"description\": \"\"\n      }\n    }\n  ]\n}"
            }
          },
          "metadata": {}
        }
      ]
    },
    {
      "cell_type": "markdown",
      "metadata": {
        "id": "preprocessing"
      },
      "source": [
        "## Pré-processamento"
      ]
    },
    {
      "cell_type": "code",
      "metadata": {
        "id": "preprocess_functions",
        "colab": {
          "base_uri": "https://localhost:8080/"
        },
        "outputId": "94742da6-31f3-49b8-9919-c609970970fd"
      },
      "source": [
        "def parse_ingredients(ingredient_str):\n",
        "    try:\n",
        "        return json.loads(ingredient_str)\n",
        "    except:\n",
        "        return []\n",
        "\n",
        "def normalize_ingredient(ingredient):\n",
        "    ingredient = re.sub(r'\\d+[\\s]*[/-]?[\\s]*\\d*', '', ingredient)\n",
        "    units = ['cup', 'cups', 'tablespoon', 'tablespoons', 'teaspoon', 'teaspoons',\n",
        "             'pound', 'pounds', 'ounce', 'ounces', 'gram', 'grams', 'kg', 'ml',\n",
        "             'liter', 'liters', 'tbsp', 'tsp', 'oz', 'lb', 'g']\n",
        "    for unit in units:\n",
        "        ingredient = re.sub(rf'\\b{unit}s?\\b', '', ingredient, flags=re.IGNORECASE)\n",
        "    ingredient = re.sub(r'\\([^)]*\\)', '', ingredient)\n",
        "    ingredient = re.sub(r'[,;]', '', ingredient)\n",
        "    ingredient = ' '.join(ingredient.split())\n",
        "    return ingredient.lower().strip()\n",
        "\n",
        "print(\"Processando ingredientes...\")\n",
        "\n",
        "df['ingredients_list'] = df['ingredients'].apply(parse_ingredients)\n",
        "df['ingredients_normalized'] = df['ingredients_list'].apply(\n",
        "    lambda x: [normalize_ingredient(i) for i in x if normalize_ingredient(i)]\n",
        ")\n",
        "\n",
        "all_ingredients = []\n",
        "for ingredients in df['ingredients_normalized']:\n",
        "    all_ingredients.extend(ingredients)\n",
        "\n",
        "ingredient_vocab = Counter(all_ingredients)\n",
        "MIN_FREQUENCY = 5\n",
        "filtered_vocab = {k: v for k, v in ingredient_vocab.items() if v >= MIN_FREQUENCY}\n",
        "\n",
        "df['ingredients_filtered'] = df['ingredients_normalized'].apply(\n",
        "    lambda x: [i for i in x if i in filtered_vocab]\n",
        ")\n",
        "\n",
        "df['recipe_text'] = df['ingredients_filtered'].apply(lambda x: ', '.join(x))\n",
        "\n",
        "print(f\"✓ Ingredientes únicos: {len(filtered_vocab)}\")\n",
        "print(f\"✓ Receitas processadas: {len(df)}\")"
      ],
      "execution_count": null,
      "outputs": [
        {
          "output_type": "stream",
          "name": "stdout",
          "text": [
            "Processando ingredientes...\n",
            "✓ Ingredientes únicos: 13040\n",
            "✓ Receitas processadas: 62126\n"
          ]
        }
      ]
    },
    {
      "cell_type": "markdown",
      "metadata": {
        "id": "models"
      },
      "source": [
        "## Carregamento de Modelos"
      ]
    },
    {
      "cell_type": "code",
      "metadata": {
        "id": "load_embedding",
        "colab": {
          "base_uri": "https://localhost:8080/"
        },
        "outputId": "352effa9-ee64-479a-f1a7-9619eb1ce583"
      },
      "source": [
        "print(\"Carregando modelo de embeddings...\")\n",
        "embedding_model = SentenceTransformer('all-MiniLM-L6-v2')\n",
        "print(\"✓ Embedding model: all-MiniLM-L6-v2 (384D)\")"
      ],
      "execution_count": null,
      "outputs": [
        {
          "output_type": "stream",
          "name": "stdout",
          "text": [
            "Carregando modelo de embeddings...\n",
            "✓ Embedding model: all-MiniLM-L6-v2 (384D)\n"
          ]
        }
      ]
    },
    {
      "cell_type": "code",
      "metadata": {
        "id": "load_llm",
        "colab": {
          "base_uri": "https://localhost:8080/"
        },
        "outputId": "fb22d8fa-83c8-46f0-b1a4-50ca9189df03"
      },
      "source": [
        "# OPÇÃO A: Flan-T5 Large (770M parâmetros - recomendado para GPU de 8GB+)\n",
        "model_name = \"google/flan-t5-large\"\n",
        "\n",
        "# OPÇÃO C: Mistral 7B (melhor qualidade, requer GPU de 24GB+)\n",
        "# model_name = \"mistralai/Mistral-7B-Instruct-v0.2\"\n",
        "\n",
        "tokenizer = AutoTokenizer.from_pretrained(model_name)\n",
        "model = AutoModelForSeq2SeqLM.from_pretrained(\n",
        "    model_name,\n",
        "    device_map=\"auto\",\n",
        "    dtype=torch.float16  # Economiza memória\n",
        ")\n",
        "\n",
        "text_generator = pipeline(\n",
        "    \"text2text-generation\",\n",
        "    model=model,\n",
        "    tokenizer=tokenizer\n",
        "    )\n",
        "\n",
        "print(f\"✓ Modelo carregado: {model_name}\")\n"
      ],
      "execution_count": null,
      "outputs": [
        {
          "output_type": "stream",
          "name": "stderr",
          "text": [
            "Device set to use cuda:0\n"
          ]
        },
        {
          "output_type": "stream",
          "name": "stdout",
          "text": [
            "✓ Modelo carregado: google/flan-t5-large\n"
          ]
        }
      ]
    },
    {
      "cell_type": "markdown",
      "metadata": {
        "id": "embeddings"
      },
      "source": [
        "## Criação de Embeddings"
      ]
    },
    {
      "cell_type": "code",
      "metadata": {
        "id": "create_embeddings",
        "colab": {
          "base_uri": "https://localhost:8080/",
          "height": 185,
          "referenced_widgets": [
            "345f8ff2b8f64e7a9186e6c47882b5b9",
            "bae1936115ab42be9c3ce798a9838a23",
            "098bd7ae3fb94043b0d3cdb190c1c5e6",
            "b6bb25cb21414c988bd2768a57199432",
            "7cbac686724a431bb7522c1e11621c31",
            "fa2679f61b8d4f438435cd49e530e4fb",
            "5c0840e9cfb24dfb95e8b75e090f5005",
            "050a242dac7d477eae84b1c490cce3c9",
            "868fd19e03d243c7a435c867d41224dd",
            "417ab8c028d64af588a83af2d8d3fca2",
            "fb66bd267cf0462fbf9b7e83f25d02af",
            "a0b8b2000fba4871ace9eb1bcabd6f0f",
            "358b139316b2413384f1c1e51b661fbb",
            "a933e1f6c3844c6aac6772aeba853c95",
            "e5bfb6b3d37c4426b5b9039ae03c0435",
            "080ab11724564301a39b1de8aa07d554",
            "e878e36ad8954eac948c6dc52627ddb8",
            "2b7d57a7f1584bc7aee647511954b049",
            "07af4f9aac374debbb5cdc27b54435a9",
            "c7a06dcfde8c4f39a8d8d359c84888df",
            "46f742c842364d4b9cfab8e589a2b1f8",
            "2403556515bc4ad79e07764d88c05947"
          ]
        },
        "outputId": "24a18732-8f5f-4d64-d36a-4da5a7f37138"
      },
      "source": [
        "print(\"Gerando embeddings de receitas...\")\n",
        "recipe_embeddings = embedding_model.encode(\n",
        "    df['recipe_text'].tolist(),\n",
        "    batch_size=256,\n",
        "    show_progress_bar=True,\n",
        "    convert_to_tensor=True\n",
        ")\n",
        "recipe_embeddings = recipe_embeddings.cpu().numpy()\n",
        "print(f\"✓ Shape: {recipe_embeddings.shape}\")\n",
        "\n",
        "print(\"\\nGerando embeddings de ingredientes...\")\n",
        "unique_ingredients = list(filtered_vocab.keys())\n",
        "ingredient_embeddings = embedding_model.encode(\n",
        "    unique_ingredients,\n",
        "    batch_size=256,\n",
        "    show_progress_bar=True,\n",
        "    convert_to_tensor=True\n",
        ")\n",
        "ingredient_embeddings = ingredient_embeddings.cpu().numpy()\n",
        "ingredient_to_idx = {ing: idx for idx, ing in enumerate(unique_ingredients)}\n",
        "\n",
        "print(f\"✓ Embeddings de ingredientes: {ingredient_embeddings.shape}\")\n",
        "print(f\"✓ Índice pronto\")"
      ],
      "execution_count": null,
      "outputs": [
        {
          "output_type": "stream",
          "name": "stdout",
          "text": [
            "Gerando embeddings de receitas...\n"
          ]
        },
        {
          "output_type": "display_data",
          "data": {
            "text/plain": [
              "Batches:   0%|          | 0/243 [00:00<?, ?it/s]"
            ],
            "application/vnd.jupyter.widget-view+json": {
              "version_major": 2,
              "version_minor": 0,
              "model_id": "345f8ff2b8f64e7a9186e6c47882b5b9"
            }
          },
          "metadata": {}
        },
        {
          "output_type": "stream",
          "name": "stdout",
          "text": [
            "✓ Shape: (62126, 384)\n",
            "\n",
            "Gerando embeddings de ingredientes...\n"
          ]
        },
        {
          "output_type": "display_data",
          "data": {
            "text/plain": [
              "Batches:   0%|          | 0/51 [00:00<?, ?it/s]"
            ],
            "application/vnd.jupyter.widget-view+json": {
              "version_major": 2,
              "version_minor": 0,
              "model_id": "a0b8b2000fba4871ace9eb1bcabd6f0f"
            }
          },
          "metadata": {}
        },
        {
          "output_type": "stream",
          "name": "stdout",
          "text": [
            "✓ Embeddings de ingredientes: (13040, 384)\n",
            "✓ Índice pronto\n"
          ]
        }
      ]
    },
    {
      "cell_type": "markdown",
      "metadata": {
        "id": "retrieval"
      },
      "source": [
        "## Sistema de Retrieval"
      ]
    },
    {
      "cell_type": "code",
      "metadata": {
        "id": "retrieval_functions"
      },
      "source": [
        "def retrieve_similar_recipes(query_ingredients, top_k=5):\n",
        "    \"\"\"Busca semântica de receitas similares\"\"\"\n",
        "    normalized = [normalize_ingredient(ing) for ing in query_ingredients]\n",
        "    query_text = ', '.join(normalized)\n",
        "\n",
        "    query_embedding = embedding_model.encode([query_text], convert_to_tensor=True)\n",
        "    query_embedding = query_embedding.cpu().numpy()\n",
        "\n",
        "    similarities = cosine_similarity(query_embedding, recipe_embeddings)[0]\n",
        "    top_indices = np.argsort(similarities)[::-1][:top_k*3]  # Busca mais para compensar duplicatas\n",
        "\n",
        "    results = []\n",
        "    seen_titles = set()  # <-- ADICIONAR ISSO\n",
        "\n",
        "    for idx in top_indices:\n",
        "        recipe = df.iloc[idx]\n",
        "        title = recipe['recipe_title']\n",
        "\n",
        "        # Pular receitas duplicadas\n",
        "        if title in seen_titles:\n",
        "            continue\n",
        "\n",
        "        seen_titles.add(title)\n",
        "        results.append({\n",
        "            'idx': idx,\n",
        "            'title': title,\n",
        "            'category': recipe['category'],\n",
        "            'ingredients': recipe['ingredients_filtered'],\n",
        "            'directions': json.loads(recipe['directions']) if isinstance(recipe['directions'], str) else recipe['directions'],\n",
        "            'description': recipe['description'],\n",
        "            'similarity': similarities[idx]\n",
        "        })\n",
        "\n",
        "        if len(results) >= top_k:  # Para quando tiver receitas únicas suficientes\n",
        "            break\n",
        "\n",
        "    return results"
      ],
      "execution_count": null,
      "outputs": []
    },
    {
      "cell_type": "markdown",
      "metadata": {
        "id": "test_retrieval"
      },
      "source": [
        "### Teste de Retrieval"
      ]
    },
    {
      "cell_type": "code",
      "metadata": {
        "id": "test_retrieval_code",
        "colab": {
          "base_uri": "https://localhost:8080/"
        },
        "outputId": "ad1bffbd-fa0b-4fd4-faf2-f66e55600e4b"
      },
      "source": [
        "test_query = [\"chicken\", \"garlic\", \"soy sauce\"]\n",
        "print(f\"Query: {test_query}\\n\")\n",
        "\n",
        "retrieved = retrieve_similar_recipes(test_query, top_k=5)\n",
        "for i, recipe in enumerate(retrieved, 1):\n",
        "    print(f\"{i}. {recipe['title']} (sim: {recipe['similarity']:.3f})\")\n",
        "    print(f\"   Categoria: {recipe['category']}\")\n",
        "    print(f\"   Ingredientes: {', '.join(recipe['ingredients'][:5])}...\\n\")"
      ],
      "execution_count": null,
      "outputs": [
        {
          "output_type": "stream",
          "name": "stdout",
          "text": [
            "Query: ['chicken', 'garlic', 'soy sauce']\n",
            "\n",
            "1. Key West Chicken (sim: 0.852)\n",
            "   Categoria: Labor Day\n",
            "   Ingredientes: soy sauce, honey, vegetable oil, lime juice, chopped garlic...\n",
            "\n",
            "2. Sweet and Spicy Green Beans (sim: 0.851)\n",
            "   Categoria: Labor Day\n",
            "   Ingredientes: soy sauce, clove garlic minced, honey, canola oil...\n",
            "\n",
            "3. Japchae (sim: 0.839)\n",
            "   Categoria: Beef Recipes\n",
            "   Ingredientes: soy sauce, ½ white sugar, sesame oil, minced garlic...\n",
            "\n",
            "4. Spicy Korean Chicken (sim: 0.836)\n",
            "   Categoria: Korean\n",
            "   Ingredientes: soy sauce, vegetable oil, sesame oil, cloves garlic minced...\n",
            "\n",
            "5. Tri-Tip Bulgogi (sim: 0.829)\n",
            "   Categoria: Beef Recipes\n",
            "   Ingredientes: onion, soy sauce, cloves garlic...\n",
            "\n"
          ]
        }
      ]
    },
    {
      "cell_type": "code",
      "source": [
        "def retrieve_complementary_ingredients(base_ingredients, top_k=10):\n",
        "    \"\"\"Busca ingredientes complementares com diversidade\"\"\"\n",
        "    suggestions = defaultdict(float)\n",
        "    base_normalized = [normalize_ingredient(ing) for ing in base_ingredients]\n",
        "\n",
        "    # Palavras a filtrar (muito genéricas)\n",
        "    generic_words = {'sauce', 'oil', 'water', 'salt', 'pepper', 'sugar', 'flour'}\n",
        "\n",
        "    for base_ing in base_normalized:\n",
        "        if base_ing not in ingredient_to_idx:\n",
        "            continue\n",
        "\n",
        "        base_idx = ingredient_to_idx[base_ing]\n",
        "        base_emb = ingredient_embeddings[base_idx].reshape(1, -1)\n",
        "\n",
        "        similarities = cosine_similarity(base_emb, ingredient_embeddings)[0]\n",
        "\n",
        "        for idx, sim in enumerate(similarities):\n",
        "            ing = unique_ingredients[idx]\n",
        "\n",
        "            # Pular ingredientes já presentes\n",
        "            if ing in base_normalized:\n",
        "                continue\n",
        "\n",
        "            # Filtrar genéricos sozinhos (mas aceitar compostos como \"soy sauce\")\n",
        "            if ing in generic_words and ' ' not in ing:\n",
        "                continue\n",
        "\n",
        "            suggestions[ing] += sim\n",
        "\n",
        "    # Ordenar e remover similares demais\n",
        "    sorted_sugg = sorted(suggestions.items(), key=lambda x: x[1], reverse=True)\n",
        "\n",
        "    # Filtrar redundância (ex: se tem \"soy sauce\", não precisa \"sauce\")\n",
        "    filtered = []\n",
        "    seen_words = set()\n",
        "\n",
        "    for ing, score in sorted_sugg:\n",
        "        words = set(ing.split())\n",
        "\n",
        "        # Aceitar se não tem overlap substancial com anteriores\n",
        "        if len(words & seen_words) < len(words):\n",
        "            filtered.append((ing, score))\n",
        "            seen_words.update(words)\n",
        "\n",
        "        if len(filtered) >= top_k:\n",
        "            break\n",
        "\n",
        "    return filtered"
      ],
      "metadata": {
        "id": "m3xC6a1mf_lk"
      },
      "execution_count": null,
      "outputs": []
    },
    {
      "cell_type": "markdown",
      "metadata": {
        "id": "rag"
      },
      "source": [
        "## Sistema RAG Completo"
      ]
    },
    {
      "cell_type": "code",
      "metadata": {
        "id": "rag_function",
        "colab": {
          "base_uri": "https://localhost:8080/"
        },
        "outputId": "58581509-0bec-47a7-f2e1-a7746379a814"
      },
      "source": [
        "def generate_recipe_with_rag(\n",
        "    base_ingredients,\n",
        "    category=None,\n",
        "    restrictions=None,\n",
        "    top_k=5,\n",
        "    verbose=True\n",
        "):\n",
        "    \"\"\"Sistema RAG completo com geração melhorada\"\"\"\n",
        "\n",
        "    if verbose:\n",
        "        print(f\"\\n{'='*60}\")\n",
        "        print(\"RAG GENERATION\")\n",
        "        print(f\"{'='*60}\")\n",
        "        print(f\"\\nIngredientes base: {base_ingredients}\")\n",
        "        if category:\n",
        "            print(f\"Categoria: {category}\")\n",
        "        if restrictions:\n",
        "            print(f\"Restrições: {restrictions}\")\n",
        "\n",
        "    # RETRIEVAL (com deduplicação)\n",
        "    if verbose:\n",
        "        print(f\"\\n[1/3] Buscando receitas similares...\")\n",
        "\n",
        "    retrieved_recipes = retrieve_similar_recipes(base_ingredients, top_k=top_k)\n",
        "\n",
        "    if category:\n",
        "        retrieved_recipes = [r for r in retrieved_recipes\n",
        "                           if category.lower() in r['category'].lower()][:top_k]\n",
        "\n",
        "    if verbose:\n",
        "        for i, r in enumerate(retrieved_recipes[:3], 1):\n",
        "            print(f\"    {i}. {r['title']} (sim: {r['similarity']:.2f})\")\n",
        "\n",
        "    # COMPLEMENTARY INGREDIENTS\n",
        "    if verbose:\n",
        "        print(f\"\\n[2/3] Buscando ingredientes complementares...\")\n",
        "\n",
        "    complementary = retrieve_complementary_ingredients(base_ingredients, top_k=8)\n",
        "\n",
        "    if restrictions:\n",
        "        restrictions_norm = [normalize_ingredient(r) for r in restrictions]\n",
        "        complementary = [(ing, score) for ing, score in complementary\n",
        "                        if ing not in restrictions_norm][:8]\n",
        "\n",
        "    suggested_ingredients = [ing for ing, _ in complementary[:5]]\n",
        "    all_ingredients = base_ingredients + suggested_ingredients\n",
        "\n",
        "    if verbose:\n",
        "        print(f\"    Sugeridos: {', '.join(suggested_ingredients)}\")\n",
        "\n",
        "    # AUGMENTATION - Prompt Melhorado\n",
        "    if verbose:\n",
        "        print(f\"\\n[3/3] Gerando receita com LLM...\")\n",
        "\n",
        "    # Contexto das receitas recuperadas\n",
        "    context_recipes = []\n",
        "    for r in retrieved_recipes[:3]:\n",
        "        ing_list = ', '.join(r['ingredients'][:8])\n",
        "        context_recipes.append(f\"- {r['title']}: {ing_list}\")\n",
        "\n",
        "    context = \"\\n\".join(context_recipes)\n",
        "\n",
        "    # PROMPT MELHORADO\n",
        "    prompt = f\"\"\"You are a professional chef. Create a complete, detailed recipe.\n",
        "\n",
        "Reference recipes for inspiration:\n",
        "{context}\n",
        "\n",
        "Main ingredients to use: {', '.join(base_ingredients)}\n",
        "Additional suggested ingredients: {', '.join(suggested_ingredients)}\n",
        "Category: {category if category else 'Any'}\n",
        "{f\"Dietary restrictions (DO NOT use): {', '.join(restrictions)}\" if restrictions else \"\"}\n",
        "\n",
        "Generate a complete recipe with:\n",
        "\n",
        "**Recipe Name:** [Creative, appetizing name]\n",
        "\n",
        "**Ingredients:**\n",
        "- [ingredient 1 with quantity]\n",
        "- [ingredient 2 with quantity]\n",
        "- [etc. - list ALL ingredients with measurements]\n",
        "\n",
        "**Instructions:**\n",
        "1. [Detailed first step]\n",
        "2. [Detailed second step]\n",
        "3. [Continue with clear, step-by-step instructions]\n",
        "...\n",
        "\n",
        "**Cooking Time:** [prep + cook time]\n",
        "\n",
        "**Servings:** [number of servings]\n",
        "\n",
        "Create the recipe:\"\"\"\n",
        "\n",
        "    # GENERATION com parâmetros otimizados\n",
        "    try:\n",
        "        generated = text_generator(\n",
        "            prompt,\n",
        "            max_length=800,      # Mais espaço para receita completa\n",
        "            min_length=300,      # Garantir mínimo de detalhes\n",
        "            num_return_sequences=1,\n",
        "            temperature=0.85,    # Balanceado: criativo mas coerente\n",
        "            do_sample=True,\n",
        "            top_p=0.92,\n",
        "            top_k=50,\n",
        "            repetition_penalty=1.2  # Evita repetição\n",
        "        )[0]['generated_text']\n",
        "\n",
        "        # Limpar o prompt da saída\n",
        "        if \"Create the recipe:\" in generated:\n",
        "            generated = generated.split(\"Create the recipe:\")[-1].strip()\n",
        "\n",
        "    except Exception as e:\n",
        "        generated = f\"[Generation error: {str(e)}]\"\n",
        "\n",
        "    return {\n",
        "        'base_ingredients': base_ingredients,\n",
        "        'suggested_ingredients': suggested_ingredients,\n",
        "        'all_ingredients': all_ingredients,\n",
        "        'retrieved_recipes': retrieved_recipes,\n",
        "        'generated_recipe': generated,\n",
        "        'category': category,\n",
        "        'restrictions': restrictions\n",
        "    }\n",
        "\n",
        "print(\"✓ Sistema RAG atualizado e pronto\")"
      ],
      "execution_count": null,
      "outputs": [
        {
          "output_type": "stream",
          "name": "stdout",
          "text": [
            "✓ Sistema RAG atualizado e pronto\n"
          ]
        }
      ]
    },
    {
      "cell_type": "markdown",
      "metadata": {
        "id": "tests"
      },
      "source": [
        "## Testes do Sistema RAG"
      ]
    },
    {
      "cell_type": "markdown",
      "metadata": {
        "id": "test1"
      },
      "source": [
        "### Teste 1: Receita Asiática"
      ]
    },
    {
      "cell_type": "code",
      "metadata": {
        "id": "test1_code",
        "colab": {
          "base_uri": "https://localhost:8080/"
        },
        "outputId": "83e907ac-b855-4470-ee19-80884b7d40c0"
      },
      "source": [
        "result1 = generate_recipe_with_rag(\n",
        "    base_ingredients=[\"chicken\", \"soy sauce\", \"ginger\"],\n",
        "    category=\"Asian\",\n",
        "    restrictions=None,\n",
        "    top_k=5,\n",
        "    verbose=True\n",
        ")\n",
        "\n",
        "print(\"\\n\" + \"=\"*60)\n",
        "print(\"RECEITA GERADA\")\n",
        "print(\"=\"*60)\n",
        "print(result1['generated_recipe'])"
      ],
      "execution_count": null,
      "outputs": [
        {
          "output_type": "stream",
          "name": "stdout",
          "text": [
            "\n",
            "============================================================\n",
            "RAG GENERATION\n",
            "============================================================\n",
            "\n",
            "Ingredientes base: ['chicken', 'soy sauce', 'ginger']\n",
            "Categoria: Asian\n",
            "\n",
            "[1/3] Buscando receitas similares...\n",
            "\n",
            "[2/3] Buscando ingredientes complementares...\n",
            "    Sugeridos: chili sauce, pasta sauce, tomato sauce, fish sauce, fresh ginger\n",
            "\n",
            "[3/3] Gerando receita com LLM...\n"
          ]
        },
        {
          "output_type": "stream",
          "name": "stderr",
          "text": [
            "Both `max_new_tokens` (=256) and `max_length`(=800) seem to have been set. `max_new_tokens` will take precedence. Please refer to the documentation for more information. (https://huggingface.co/docs/transformers/main/en/main_classes/text_generation)\n"
          ]
        },
        {
          "output_type": "stream",
          "name": "stdout",
          "text": [
            "\n",
            "============================================================\n",
            "RECEITA GERADA\n",
            "============================================================\n",
            "**Ingredients:** **Ingredients:** **Ingredients:** **Ingredients:** **Ingredients:** **Ingredients:** **Ingredients:** **Ingredients:** **Ingredients:** **Ingredients:** **Ingredients:** **Ingredients:** **Ingredients:** **Ingredients:** **Ingredients:** **Ingredients:** **Ingredients:** **Ingredients:** **Ingredients:** **Ingredients:** **Ingredients:** **Ingredients:** **Ingredients:** **Ingredients:** **Ingredients:** **Ingredients:** **Ingredients:** **Ingredients:** **Ingredients:** **Ingredients:** **Ingredients:** **Ingredients:**\n"
          ]
        }
      ]
    },
    {
      "cell_type": "markdown",
      "metadata": {
        "id": "test2"
      },
      "source": [
        "### Teste 2: Sobremesa sem Laticínios"
      ]
    },
    {
      "cell_type": "code",
      "metadata": {
        "id": "test2_code",
        "colab": {
          "base_uri": "https://localhost:8080/"
        },
        "outputId": "55cf6555-2aa1-4f7a-83c3-236119512516"
      },
      "source": [
        "result2 = generate_recipe_with_rag(\n",
        "    base_ingredients=[\"chocolate\", \"flour\", \"sugar\"],\n",
        "    category=\"Desserts\",\n",
        "    restrictions=[\"milk\", \"butter\", \"cream\"],\n",
        "    top_k=5,\n",
        "    verbose=True\n",
        ")\n",
        "\n",
        "print(\"\\n\" + \"=\"*60)\n",
        "print(\"RECEITA GERADA\")\n",
        "print(\"=\"*60)\n",
        "print(result2['generated_recipe'])"
      ],
      "execution_count": null,
      "outputs": [
        {
          "output_type": "stream",
          "name": "stdout",
          "text": [
            "\n",
            "============================================================\n",
            "RAG GENERATION\n",
            "============================================================\n",
            "\n",
            "Ingredientes base: ['chocolate', 'flour', 'sugar']\n",
            "Categoria: Desserts\n",
            "Restrições: ['milk', 'butter', 'cream']\n",
            "\n",
            "[1/3] Buscando receitas similares...\n",
            "\n",
            "[2/3] Buscando ingredientes complementares...\n"
          ]
        },
        {
          "output_type": "stream",
          "name": "stderr",
          "text": [
            "Both `max_new_tokens` (=256) and `max_length`(=800) seem to have been set. `max_new_tokens` will take precedence. Please refer to the documentation for more information. (https://huggingface.co/docs/transformers/main/en/main_classes/text_generation)\n"
          ]
        },
        {
          "output_type": "stream",
          "name": "stdout",
          "text": [
            "    Sugeridos: chocolate syrup, vanilla sugar, chocolate milk, white chocolate, / sugar\n",
            "\n",
            "[3/3] Gerando receita com LLM...\n",
            "\n",
            "============================================================\n",
            "RECEITA GERADA\n",
            "============================================================\n",
            "**Ingredients:** **Ingredients:** **Ingredients:** **Ingredients:** **Ingredients:** **Ingredients:** **Ingredients:** **Ingredients:** **Ingredients:** **Ingredients:** **Ingredients:** **Ingredients:** **Ingredients:** **Ingredients:** **Ingredients:** **Ingredients:** **Ingredients:** **Ingredients:** **Ingredients:** **Ingredients:** **Ingredients:** **Ingredients:** **Ingredients:** **Ingredients:** **Ingredients:** **Ingredients:** **Ingredients:** **Ingredients:** **Ingredients:** **Ingredients:** **Ingredients:** **Ingredients:**\n"
          ]
        }
      ]
    },
    {
      "cell_type": "markdown",
      "metadata": {
        "id": "test3"
      },
      "source": [
        "### Teste 3: Prato Italiano"
      ]
    },
    {
      "cell_type": "code",
      "metadata": {
        "id": "test3_code",
        "colab": {
          "base_uri": "https://localhost:8080/"
        },
        "outputId": "c62737cf-e9fe-40b1-99da-c4d30af29ac9"
      },
      "source": [
        "result3 = generate_recipe_with_rag(\n",
        "    base_ingredients=[\"pasta\", \"tomato\", \"basil\"],\n",
        "    category=\"Italian\",\n",
        "    restrictions=None,\n",
        "    top_k=5,\n",
        "    verbose=True\n",
        ")\n",
        "\n",
        "print(\"\\n\" + \"=\"*60)\n",
        "print(\"RECEITA GERADA\")\n",
        "print(\"=\"*60)\n",
        "print(result3['generated_recipe'])"
      ],
      "execution_count": null,
      "outputs": [
        {
          "output_type": "stream",
          "name": "stdout",
          "text": [
            "\n",
            "============================================================\n",
            "RAG GENERATION\n",
            "============================================================\n",
            "\n",
            "Ingredientes base: ['pasta', 'tomato', 'basil']\n",
            "Categoria: Italian\n",
            "\n",
            "[1/3] Buscando receitas similares...\n",
            "\n",
            "[2/3] Buscando ingredientes complementares...\n"
          ]
        },
        {
          "output_type": "stream",
          "name": "stderr",
          "text": [
            "Both `max_new_tokens` (=256) and `max_length`(=800) seem to have been set. `max_new_tokens` will take precedence. Please refer to the documentation for more information. (https://huggingface.co/docs/transformers/main/en/main_classes/text_generation)\n"
          ]
        },
        {
          "output_type": "stream",
          "name": "stdout",
          "text": [
            "    Sugeridos: pasta sauce, spaghetti, tomatoes, tomato pasta sauce, roma tomato\n",
            "\n",
            "[3/3] Gerando receita com LLM...\n",
            "\n",
            "============================================================\n",
            "RECEITA GERADA\n",
            "============================================================\n",
            "**Ingredients:** **Ingredients:** **Ingredients:** **Ingredients:** **Ingredients:** **Ingredients:** **Ingredients:** **Ingredients:** **Ingredients:** **Ingredients:** **Ingredients:** **Ingredients:** **Ingredients:** **Ingredients:** **Ingredients:** **Ingredients:** **Ingredients:** **Ingredients:** **Ingredients:** **Ingredients:** **Ingredients:** **Ingredients:** **Ingredients:** **Ingredients:** **Ingredients:** **Ingredients:** **Ingredients:** **Ingredients:** **Ingredients:** **Ingredients:** **Ingredients:** **Ingredients:**\n"
          ]
        }
      ]
    },
    {
      "cell_type": "markdown",
      "metadata": {
        "id": "interface"
      },
      "source": [
        "## Interface Simplificada"
      ]
    },
    {
      "cell_type": "code",
      "metadata": {
        "id": "quick_gen",
        "colab": {
          "base_uri": "https://localhost:8080/"
        },
        "outputId": "9921100b-bff4-4971-de49-c26cf14877a3"
      },
      "source": [
        "def quick_recipe_generation(base_ingredients, category=None):\n",
        "    \"\"\"Interface simplificada para geração rápida\"\"\"\n",
        "    result = generate_recipe_with_rag(\n",
        "        base_ingredients=base_ingredients,\n",
        "        category=category,\n",
        "        restrictions=None,\n",
        "        top_k=5,\n",
        "        verbose=False\n",
        "    )\n",
        "\n",
        "    print(f\"\\n{'='*60}\")\n",
        "    print(f\"RECEITA GERADA\")\n",
        "    print(f\"{'='*60}\")\n",
        "    print(f\"\\nIngredientes base: {', '.join(result['base_ingredients'])}\")\n",
        "    print(f\"Ingredientes sugeridos: {', '.join(result['suggested_ingredients'])}\")\n",
        "    if result['category']:\n",
        "        print(f\"Categoria: {result['category']}\")\n",
        "    print(f\"\\nReceitas de referência:\")\n",
        "    for i, r in enumerate(result['retrieved_recipes'][:3], 1):\n",
        "        print(f\"  {i}. {r['title']}\")\n",
        "    print(f\"\\n{'-'*60}\")\n",
        "    print(result['generated_recipe'])\n",
        "    print(f\"{'-'*60}\")\n",
        "\n",
        "    return result\n",
        "\n",
        "print(\"✓ Interface simplificada pronta\")"
      ],
      "execution_count": null,
      "outputs": [
        {
          "output_type": "stream",
          "name": "stdout",
          "text": [
            "✓ Interface simplificada pronta\n"
          ]
        }
      ]
    },
    {
      "cell_type": "markdown",
      "metadata": {
        "id": "example"
      },
      "source": [
        "### Exemplo de Uso"
      ]
    },
    {
      "cell_type": "code",
      "metadata": {
        "id": "example_code",
        "colab": {
          "base_uri": "https://localhost:8080/"
        },
        "outputId": "06689500-be80-4936-f118-f473c6558db4"
      },
      "source": [
        "# Teste com seus próprios ingredientes\n",
        "result = quick_recipe_generation(\n",
        "    base_ingredients=['beef', 'onion', 'garlic'],\n",
        "    category='Mexican'\n",
        ")"
      ],
      "execution_count": null,
      "outputs": [
        {
          "output_type": "stream",
          "name": "stderr",
          "text": [
            "Both `max_new_tokens` (=256) and `max_length`(=800) seem to have been set. `max_new_tokens` will take precedence. Please refer to the documentation for more information. (https://huggingface.co/docs/transformers/main/en/main_classes/text_generation)\n"
          ]
        }
      ]
    },
    {
      "cell_type": "markdown",
      "metadata": {
        "id": "stats"
      },
      "source": [
        "## Estatísticas do Sistema"
      ]
    },
    {
      "cell_type": "code",
      "metadata": {
        "id": "stats_code"
      },
      "source": [
        "print(f\"{'='*60}\")\n",
        "print(\"ESTATÍSTICAS DO SISTEMA RAG\")\n",
        "print(f\"{'='*60}\")\n",
        "\n",
        "print(f\"\\n📊 Dataset:\")\n",
        "print(f\"  • Total de receitas: {len(df):,}\")\n",
        "print(f\"  • Receitas com embeddings: {len(recipe_embeddings):,}\")\n",
        "print(f\"  • Ingredientes únicos: {len(ingredient_to_idx):,}\")\n",
        "print(f\"  • Categorias: {df['category'].nunique()}\")\n",
        "\n",
        "print(f\"\\n🔧 Modelos:\")\n",
        "print(f\"  • Embedding: all-MiniLM-L6-v2 (384D)\")\n",
        "print(f\"  • LLM: google/flan-t5-base\")\n",
        "print(f\"  • Device: {'GPU' if torch.cuda.is_available() else 'CPU'}\")\n",
        "\n",
        "print(f\"\\n✓ Sistema completo e funcional\")"
      ],
      "execution_count": null,
      "outputs": []
    }
  ]
}
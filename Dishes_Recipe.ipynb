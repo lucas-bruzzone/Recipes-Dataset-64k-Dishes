{
  "nbformat": 4,
  "nbformat_minor": 0,
  "metadata": {
    "colab": {
      "provenance": [],
      "mount_file_id": "16BuUObik44gFGEsHvcVVNXViHoMs-l90",
      "authorship_tag": "ABX9TyNm+ifd8HTVW2c+tunEia1h",
      "include_colab_link": true
    },
    "kernelspec": {
      "name": "python3",
      "display_name": "Python 3"
    },
    "language_info": {
      "name": "python"
    }
  },
  "cells": [
    {
      "cell_type": "markdown",
      "metadata": {
        "id": "view-in-github",
        "colab_type": "text"
      },
      "source": [
        "<a href=\"https://colab.research.google.com/github/lucas-bruzzone/Recipes-Dataset-64k-Dishes/blob/main/Dishes_Recipe.ipynb\" target=\"_parent\"><img src=\"https://colab.research.google.com/assets/colab-badge.svg\" alt=\"Open In Colab\"/></a>"
      ]
    },
    {
      "cell_type": "code",
      "metadata": {
        "colab": {
          "base_uri": "https://localhost:8080/"
        },
        "id": "be450de6",
        "outputId": "7fcd7299-93ac-4956-fe32-4004bdd7644b"
      },
      "source": [
        "from google.colab import drive\n",
        "drive.mount('/content/drive')"
      ],
      "execution_count": 39,
      "outputs": [
        {
          "output_type": "stream",
          "name": "stdout",
          "text": [
            "Drive already mounted at /content/drive; to attempt to forcibly remount, call drive.mount(\"/content/drive\", force_remount=True).\n"
          ]
        }
      ]
    },
    {
      "cell_type": "markdown",
      "metadata": {
        "id": "bb7fe53b"
      },
      "source": [
        "## Download the dataset\n"
      ]
    },
    {
      "cell_type": "code",
      "metadata": {
        "id": "4d70ebfc"
      },
      "source": [
        "import os\n",
        "import shutil\n",
        "\n",
        "kaggle_dir = os.path.expanduser('~/.kaggle')\n",
        "os.makedirs(kaggle_dir, exist_ok=True)\n",
        "\n",
        "kaggle_json_src = '/content/drive/MyDrive/Colab Notebooks/Recipes Dataset : 64k Dishes/kaggle.json'\n",
        "kaggle_json_dest = os.path.join(kaggle_dir, 'kaggle.json')\n",
        "shutil.copy(kaggle_json_src, kaggle_json_dest)\n",
        "\n",
        "os.chmod(kaggle_json_dest, 0o600)"
      ],
      "execution_count": 40,
      "outputs": []
    },
    {
      "cell_type": "code",
      "metadata": {
        "colab": {
          "base_uri": "https://localhost:8080/",
          "height": 53
        },
        "id": "KnQifZajK3i9",
        "outputId": "8f35e470-bed9-4b6d-984f-51648d55cba8"
      },
      "source": [
        "dataset_name = \"prashantsingh001/recipes-dataset-64k-dishes\"\n",
        "kagglehub.dataset_download(dataset_name)"
      ],
      "execution_count": 41,
      "outputs": [
        {
          "output_type": "stream",
          "name": "stdout",
          "text": [
            "Using Colab cache for faster access to the 'recipes-dataset-64k-dishes' dataset.\n"
          ]
        },
        {
          "output_type": "execute_result",
          "data": {
            "text/plain": [
              "'/kaggle/input/recipes-dataset-64k-dishes'"
            ],
            "application/vnd.google.colaboratory.intrinsic+json": {
              "type": "string"
            }
          },
          "metadata": {},
          "execution_count": 41
        }
      ]
    },
    {
      "cell_type": "code",
      "metadata": {
        "colab": {
          "base_uri": "https://localhost:8080/"
        },
        "id": "8Be_8zLEK9wT",
        "outputId": "ad96189f-42d0-4f7a-90b9-c352ea66d42d"
      },
      "source": [
        "import os\n",
        "import shutil\n",
        "\n",
        "source_dir = '/kaggle/input/recipes-dataset-64k-dishes'\n",
        "destination_dir = '/content/drive/MyDrive/Colab Notebooks/Recipes Dataset : 64k Dishes/dataset'\n",
        "\n",
        "os.makedirs(destination_dir, exist_ok=True)\n",
        "\n",
        "# Copy the contents of the source directory to the destination directory\n",
        "for item in os.listdir(source_dir):\n",
        "    s = os.path.join(source_dir, item)\n",
        "    d = os.path.join(destination_dir, item)\n",
        "    # Use copy instead of move\n",
        "    shutil.copy2(s, d)\n",
        "\n",
        "print(f\"Dataset copied from {source_dir} to {destination_dir}\")"
      ],
      "execution_count": 42,
      "outputs": [
        {
          "output_type": "stream",
          "name": "stdout",
          "text": [
            "Dataset copied from /kaggle/input/recipes-dataset-64k-dishes to /content/drive/MyDrive/Colab Notebooks/Recipes Dataset : 64k Dishes/dataset\n"
          ]
        }
      ]
    },
    {
      "cell_type": "code",
      "metadata": {
        "colab": {
          "base_uri": "https://localhost:8080/"
        },
        "id": "_yLWbYSGLDa-",
        "outputId": "0fc5497b-6a24-4fc7-d507-e4d6edb3bdd0"
      },
      "source": [
        "import os\n",
        "\n",
        "dataset_dir = '/content/drive/MyDrive/Colab Notebooks/Recipes Dataset : 64k Dishes/dataset'\n",
        "print(os.listdir(dataset_dir))"
      ],
      "execution_count": 43,
      "outputs": [
        {
          "output_type": "stream",
          "name": "stdout",
          "text": [
            "['1_Recipe_csv.csv', '2_Recipe_json.json']\n"
          ]
        }
      ]
    },
    {
      "cell_type": "code",
      "metadata": {
        "colab": {
          "base_uri": "https://localhost:8080/",
          "height": 293
        },
        "id": "84f666bd",
        "outputId": "f57b2d0e-bd69-4020-8ac0-bba8686a170a"
      },
      "source": [
        "import pandas as pd\n",
        "\n",
        "dataset_path = '/content/drive/MyDrive/Colab Notebooks/Recipes Dataset : 64k Dishes/dataset/1_Recipe_csv.csv'\n",
        "df = pd.read_csv(dataset_path)\n",
        "display(df.head())"
      ],
      "execution_count": 44,
      "outputs": [
        {
          "output_type": "display_data",
          "data": {
            "text/plain": [
              "                                        recipe_title           category  \\\n",
              "0         Air Fryer Potato Slices with Dipping Sauce  Air Fryer Recipes   \n",
              "1                         Gochujang Pork Belly Bites  Air Fryer Recipes   \n",
              "2  3-Ingredient Air Fryer Everything Bagel Chicke...  Air Fryer Recipes   \n",
              "3         Air Fryer Everything Bagel Chicken Cutlets  Air Fryer Recipes   \n",
              "4              Air Fryer Honey Sriracha Salmon Bites  Air Fryer Recipes   \n",
              "\n",
              "         subcategory                                        description  \\\n",
              "0  Air Fryer Recipes  These air fryer potato slices, served with a b...   \n",
              "1  Air Fryer Recipes  These gochujang pork belly bites are sweet and...   \n",
              "2  Air Fryer Recipes  These 3-ingredient air fryer everything bagel ...   \n",
              "3  Air Fryer Recipes  These air fryer everything bagel chicken cutle...   \n",
              "4  Air Fryer Recipes  These air fryer honey Sriracha salmon bites ar...   \n",
              "\n",
              "                                         ingredients  \\\n",
              "0  [\"3/4 cup ketchup\", \"1/2 cup beer\", \"1 tablesp...   \n",
              "1  [\"1 pound pork belly\", \"1/4 cup gochujang\", \"2...   \n",
              "2  [\"1 \\u00bc pounds chicken tenders\", \"1 tablesp...   \n",
              "3  [\"4 chicken cutlets (about 1 pound total)\", \"s...   \n",
              "4  [\"1 tablespoon soy sauce\", \"1 tablespoon honey...   \n",
              "\n",
              "                                          directions  num_ingredients  \\\n",
              "0  [\"Combine ketchup, beer, Worcestershire sauce,...                9   \n",
              "1  [\"Preheat an air fryer to 400 degrees F (200 d...                5   \n",
              "2  [\"Gather all ingredients. Preheat an air fryer...                3   \n",
              "3  [\"Preheat an air fryer to 400 degrees F (200 d...                9   \n",
              "4  [\"Preheat an air fryer to 400 degrees F (200 d...                5   \n",
              "\n",
              "   num_steps  \n",
              "0          5  \n",
              "1          4  \n",
              "2          4  \n",
              "3          9  \n",
              "4          5  "
            ],
            "text/html": [
              "\n",
              "  <div id=\"df-22d8f6c4-a3a1-499b-9d28-96ce86016b4f\" class=\"colab-df-container\">\n",
              "    <div>\n",
              "<style scoped>\n",
              "    .dataframe tbody tr th:only-of-type {\n",
              "        vertical-align: middle;\n",
              "    }\n",
              "\n",
              "    .dataframe tbody tr th {\n",
              "        vertical-align: top;\n",
              "    }\n",
              "\n",
              "    .dataframe thead th {\n",
              "        text-align: right;\n",
              "    }\n",
              "</style>\n",
              "<table border=\"1\" class=\"dataframe\">\n",
              "  <thead>\n",
              "    <tr style=\"text-align: right;\">\n",
              "      <th></th>\n",
              "      <th>recipe_title</th>\n",
              "      <th>category</th>\n",
              "      <th>subcategory</th>\n",
              "      <th>description</th>\n",
              "      <th>ingredients</th>\n",
              "      <th>directions</th>\n",
              "      <th>num_ingredients</th>\n",
              "      <th>num_steps</th>\n",
              "    </tr>\n",
              "  </thead>\n",
              "  <tbody>\n",
              "    <tr>\n",
              "      <th>0</th>\n",
              "      <td>Air Fryer Potato Slices with Dipping Sauce</td>\n",
              "      <td>Air Fryer Recipes</td>\n",
              "      <td>Air Fryer Recipes</td>\n",
              "      <td>These air fryer potato slices, served with a b...</td>\n",
              "      <td>[\"3/4 cup ketchup\", \"1/2 cup beer\", \"1 tablesp...</td>\n",
              "      <td>[\"Combine ketchup, beer, Worcestershire sauce,...</td>\n",
              "      <td>9</td>\n",
              "      <td>5</td>\n",
              "    </tr>\n",
              "    <tr>\n",
              "      <th>1</th>\n",
              "      <td>Gochujang Pork Belly Bites</td>\n",
              "      <td>Air Fryer Recipes</td>\n",
              "      <td>Air Fryer Recipes</td>\n",
              "      <td>These gochujang pork belly bites are sweet and...</td>\n",
              "      <td>[\"1 pound pork belly\", \"1/4 cup gochujang\", \"2...</td>\n",
              "      <td>[\"Preheat an air fryer to 400 degrees F (200 d...</td>\n",
              "      <td>5</td>\n",
              "      <td>4</td>\n",
              "    </tr>\n",
              "    <tr>\n",
              "      <th>2</th>\n",
              "      <td>3-Ingredient Air Fryer Everything Bagel Chicke...</td>\n",
              "      <td>Air Fryer Recipes</td>\n",
              "      <td>Air Fryer Recipes</td>\n",
              "      <td>These 3-ingredient air fryer everything bagel ...</td>\n",
              "      <td>[\"1 \\u00bc pounds chicken tenders\", \"1 tablesp...</td>\n",
              "      <td>[\"Gather all ingredients. Preheat an air fryer...</td>\n",
              "      <td>3</td>\n",
              "      <td>4</td>\n",
              "    </tr>\n",
              "    <tr>\n",
              "      <th>3</th>\n",
              "      <td>Air Fryer Everything Bagel Chicken Cutlets</td>\n",
              "      <td>Air Fryer Recipes</td>\n",
              "      <td>Air Fryer Recipes</td>\n",
              "      <td>These air fryer everything bagel chicken cutle...</td>\n",
              "      <td>[\"4 chicken cutlets (about 1 pound total)\", \"s...</td>\n",
              "      <td>[\"Preheat an air fryer to 400 degrees F (200 d...</td>\n",
              "      <td>9</td>\n",
              "      <td>9</td>\n",
              "    </tr>\n",
              "    <tr>\n",
              "      <th>4</th>\n",
              "      <td>Air Fryer Honey Sriracha Salmon Bites</td>\n",
              "      <td>Air Fryer Recipes</td>\n",
              "      <td>Air Fryer Recipes</td>\n",
              "      <td>These air fryer honey Sriracha salmon bites ar...</td>\n",
              "      <td>[\"1 tablespoon soy sauce\", \"1 tablespoon honey...</td>\n",
              "      <td>[\"Preheat an air fryer to 400 degrees F (200 d...</td>\n",
              "      <td>5</td>\n",
              "      <td>5</td>\n",
              "    </tr>\n",
              "  </tbody>\n",
              "</table>\n",
              "</div>\n",
              "    <div class=\"colab-df-buttons\">\n",
              "\n",
              "  <div class=\"colab-df-container\">\n",
              "    <button class=\"colab-df-convert\" onclick=\"convertToInteractive('df-22d8f6c4-a3a1-499b-9d28-96ce86016b4f')\"\n",
              "            title=\"Convert this dataframe to an interactive table.\"\n",
              "            style=\"display:none;\">\n",
              "\n",
              "  <svg xmlns=\"http://www.w3.org/2000/svg\" height=\"24px\" viewBox=\"0 -960 960 960\">\n",
              "    <path d=\"M120-120v-720h720v720H120Zm60-500h600v-160H180v160Zm220 220h160v-160H400v160Zm0 220h160v-160H400v160ZM180-400h160v-160H180v160Zm440 0h160v-160H620v160ZM180-180h160v-160H180v160Zm440 0h160v-160H620v160Z\"/>\n",
              "  </svg>\n",
              "    </button>\n",
              "\n",
              "  <style>\n",
              "    .colab-df-container {\n",
              "      display:flex;\n",
              "      gap: 12px;\n",
              "    }\n",
              "\n",
              "    .colab-df-convert {\n",
              "      background-color: #E8F0FE;\n",
              "      border: none;\n",
              "      border-radius: 50%;\n",
              "      cursor: pointer;\n",
              "      display: none;\n",
              "      fill: #1967D2;\n",
              "      height: 32px;\n",
              "      padding: 0 0 0 0;\n",
              "      width: 32px;\n",
              "    }\n",
              "\n",
              "    .colab-df-convert:hover {\n",
              "      background-color: #E2EBFA;\n",
              "      box-shadow: 0px 1px 2px rgba(60, 64, 67, 0.3), 0px 1px 3px 1px rgba(60, 64, 67, 0.15);\n",
              "      fill: #174EA6;\n",
              "    }\n",
              "\n",
              "    .colab-df-buttons div {\n",
              "      margin-bottom: 4px;\n",
              "    }\n",
              "\n",
              "    [theme=dark] .colab-df-convert {\n",
              "      background-color: #3B4455;\n",
              "      fill: #D2E3FC;\n",
              "    }\n",
              "\n",
              "    [theme=dark] .colab-df-convert:hover {\n",
              "      background-color: #434B5C;\n",
              "      box-shadow: 0px 1px 3px 1px rgba(0, 0, 0, 0.15);\n",
              "      filter: drop-shadow(0px 1px 2px rgba(0, 0, 0, 0.3));\n",
              "      fill: #FFFFFF;\n",
              "    }\n",
              "  </style>\n",
              "\n",
              "    <script>\n",
              "      const buttonEl =\n",
              "        document.querySelector('#df-22d8f6c4-a3a1-499b-9d28-96ce86016b4f button.colab-df-convert');\n",
              "      buttonEl.style.display =\n",
              "        google.colab.kernel.accessAllowed ? 'block' : 'none';\n",
              "\n",
              "      async function convertToInteractive(key) {\n",
              "        const element = document.querySelector('#df-22d8f6c4-a3a1-499b-9d28-96ce86016b4f');\n",
              "        const dataTable =\n",
              "          await google.colab.kernel.invokeFunction('convertToInteractive',\n",
              "                                                    [key], {});\n",
              "        if (!dataTable) return;\n",
              "\n",
              "        const docLinkHtml = 'Like what you see? Visit the ' +\n",
              "          '<a target=\"_blank\" href=https://colab.research.google.com/notebooks/data_table.ipynb>data table notebook</a>'\n",
              "          + ' to learn more about interactive tables.';\n",
              "        element.innerHTML = '';\n",
              "        dataTable['output_type'] = 'display_data';\n",
              "        await google.colab.output.renderOutput(dataTable, element);\n",
              "        const docLink = document.createElement('div');\n",
              "        docLink.innerHTML = docLinkHtml;\n",
              "        element.appendChild(docLink);\n",
              "      }\n",
              "    </script>\n",
              "  </div>\n",
              "\n",
              "\n",
              "    <div id=\"df-4ae4ca61-1fde-4659-b89e-707e556b4445\">\n",
              "      <button class=\"colab-df-quickchart\" onclick=\"quickchart('df-4ae4ca61-1fde-4659-b89e-707e556b4445')\"\n",
              "                title=\"Suggest charts\"\n",
              "                style=\"display:none;\">\n",
              "\n",
              "<svg xmlns=\"http://www.w3.org/2000/svg\" height=\"24px\"viewBox=\"0 0 24 24\"\n",
              "     width=\"24px\">\n",
              "    <g>\n",
              "        <path d=\"M19 3H5c-1.1 0-2 .9-2 2v14c0 1.1.9 2 2 2h14c1.1 0 2-.9 2-2V5c0-1.1-.9-2-2-2zM9 17H7v-7h2v7zm4 0h-2V7h2v10zm4 0h-2v-4h2v4z\"/>\n",
              "    </g>\n",
              "</svg>\n",
              "      </button>\n",
              "\n",
              "<style>\n",
              "  .colab-df-quickchart {\n",
              "      --bg-color: #E8F0FE;\n",
              "      --fill-color: #1967D2;\n",
              "      --hover-bg-color: #E2EBFA;\n",
              "      --hover-fill-color: #174EA6;\n",
              "      --disabled-fill-color: #AAA;\n",
              "      --disabled-bg-color: #DDD;\n",
              "  }\n",
              "\n",
              "  [theme=dark] .colab-df-quickchart {\n",
              "      --bg-color: #3B4455;\n",
              "      --fill-color: #D2E3FC;\n",
              "      --hover-bg-color: #434B5C;\n",
              "      --hover-fill-color: #FFFFFF;\n",
              "      --disabled-bg-color: #3B4455;\n",
              "      --disabled-fill-color: #666;\n",
              "  }\n",
              "\n",
              "  .colab-df-quickchart {\n",
              "    background-color: var(--bg-color);\n",
              "    border: none;\n",
              "    border-radius: 50%;\n",
              "    cursor: pointer;\n",
              "    display: none;\n",
              "    fill: var(--fill-color);\n",
              "    height: 32px;\n",
              "    padding: 0;\n",
              "    width: 32px;\n",
              "  }\n",
              "\n",
              "  .colab-df-quickchart:hover {\n",
              "    background-color: var(--hover-bg-color);\n",
              "    box-shadow: 0 1px 2px rgba(60, 64, 67, 0.3), 0 1px 3px 1px rgba(60, 64, 67, 0.15);\n",
              "    fill: var(--button-hover-fill-color);\n",
              "  }\n",
              "\n",
              "  .colab-df-quickchart-complete:disabled,\n",
              "  .colab-df-quickchart-complete:disabled:hover {\n",
              "    background-color: var(--disabled-bg-color);\n",
              "    fill: var(--disabled-fill-color);\n",
              "    box-shadow: none;\n",
              "  }\n",
              "\n",
              "  .colab-df-spinner {\n",
              "    border: 2px solid var(--fill-color);\n",
              "    border-color: transparent;\n",
              "    border-bottom-color: var(--fill-color);\n",
              "    animation:\n",
              "      spin 1s steps(1) infinite;\n",
              "  }\n",
              "\n",
              "  @keyframes spin {\n",
              "    0% {\n",
              "      border-color: transparent;\n",
              "      border-bottom-color: var(--fill-color);\n",
              "      border-left-color: var(--fill-color);\n",
              "    }\n",
              "    20% {\n",
              "      border-color: transparent;\n",
              "      border-left-color: var(--fill-color);\n",
              "      border-top-color: var(--fill-color);\n",
              "    }\n",
              "    30% {\n",
              "      border-color: transparent;\n",
              "      border-left-color: var(--fill-color);\n",
              "      border-top-color: var(--fill-color);\n",
              "      border-right-color: var(--fill-color);\n",
              "    }\n",
              "    40% {\n",
              "      border-color: transparent;\n",
              "      border-right-color: var(--fill-color);\n",
              "      border-top-color: var(--fill-color);\n",
              "    }\n",
              "    60% {\n",
              "      border-color: transparent;\n",
              "      border-right-color: var(--fill-color);\n",
              "    }\n",
              "    80% {\n",
              "      border-color: transparent;\n",
              "      border-right-color: var(--fill-color);\n",
              "      border-bottom-color: var(--fill-color);\n",
              "    }\n",
              "    90% {\n",
              "      border-color: transparent;\n",
              "      border-bottom-color: var(--fill-color);\n",
              "    }\n",
              "  }\n",
              "</style>\n",
              "\n",
              "      <script>\n",
              "        async function quickchart(key) {\n",
              "          const quickchartButtonEl =\n",
              "            document.querySelector('#' + key + ' button');\n",
              "          quickchartButtonEl.disabled = true;  // To prevent multiple clicks.\n",
              "          quickchartButtonEl.classList.add('colab-df-spinner');\n",
              "          try {\n",
              "            const charts = await google.colab.kernel.invokeFunction(\n",
              "                'suggestCharts', [key], {});\n",
              "          } catch (error) {\n",
              "            console.error('Error during call to suggestCharts:', error);\n",
              "          }\n",
              "          quickchartButtonEl.classList.remove('colab-df-spinner');\n",
              "          quickchartButtonEl.classList.add('colab-df-quickchart-complete');\n",
              "        }\n",
              "        (() => {\n",
              "          let quickchartButtonEl =\n",
              "            document.querySelector('#df-4ae4ca61-1fde-4659-b89e-707e556b4445 button');\n",
              "          quickchartButtonEl.style.display =\n",
              "            google.colab.kernel.accessAllowed ? 'block' : 'none';\n",
              "        })();\n",
              "      </script>\n",
              "    </div>\n",
              "\n",
              "    </div>\n",
              "  </div>\n"
            ],
            "application/vnd.google.colaboratory.intrinsic+json": {
              "type": "dataframe",
              "summary": "{\n  \"name\": \"display(df\",\n  \"rows\": 5,\n  \"fields\": [\n    {\n      \"column\": \"recipe_title\",\n      \"properties\": {\n        \"dtype\": \"string\",\n        \"num_unique_values\": 5,\n        \"samples\": [\n          \"Gochujang Pork Belly Bites\",\n          \"Air Fryer Honey Sriracha Salmon Bites\",\n          \"3-Ingredient Air Fryer Everything Bagel Chicken Strips\"\n        ],\n        \"semantic_type\": \"\",\n        \"description\": \"\"\n      }\n    },\n    {\n      \"column\": \"category\",\n      \"properties\": {\n        \"dtype\": \"category\",\n        \"num_unique_values\": 1,\n        \"samples\": [\n          \"Air Fryer Recipes\"\n        ],\n        \"semantic_type\": \"\",\n        \"description\": \"\"\n      }\n    },\n    {\n      \"column\": \"subcategory\",\n      \"properties\": {\n        \"dtype\": \"category\",\n        \"num_unique_values\": 1,\n        \"samples\": [\n          \"Air Fryer Recipes\"\n        ],\n        \"semantic_type\": \"\",\n        \"description\": \"\"\n      }\n    },\n    {\n      \"column\": \"description\",\n      \"properties\": {\n        \"dtype\": \"string\",\n        \"num_unique_values\": 5,\n        \"samples\": [\n          \"These gochujang pork belly bites are sweet and spicy, crispy and crunchy, and absolutely delicious. Whether you finish them with the gochujang sauce in the air fryer, or just dip them in the sauce at the end, they are irresistibly good.\"\n        ],\n        \"semantic_type\": \"\",\n        \"description\": \"\"\n      }\n    },\n    {\n      \"column\": \"ingredients\",\n      \"properties\": {\n        \"dtype\": \"string\",\n        \"num_unique_values\": 5,\n        \"samples\": [\n          \"[\\\"1 pound pork belly\\\", \\\"1/4 cup gochujang\\\", \\\"2 tablespoons soy sauce\\\", \\\"1 tablespoon honey,\\\", \\\"1 teaspoon ground ginger\\\"]\"\n        ],\n        \"semantic_type\": \"\",\n        \"description\": \"\"\n      }\n    },\n    {\n      \"column\": \"directions\",\n      \"properties\": {\n        \"dtype\": \"string\",\n        \"num_unique_values\": 5,\n        \"samples\": [\n          \"[\\\"Preheat an air fryer to 400 degrees F (200 degrees C).\\\", \\\"Place pork belly pieces in the basket in a single layer, not touching. Air fry for 8 to 9 minutes; turn over and air fry for 6 to 7 minutes more.\\\", \\\"Meanwhile, for sauce, stir gochujang, soy sauce, hot honey, and ginger together in a medium bowl.\\\", \\\"Remove pork belly from air fryer basket; toss in sauce to coat. Return to the air fryer and fry until bites begin to char at the edges, 8 to 11 minutes more. (Alternately, you can use sauce only for dipping; in this case, continue to fry without removing bites, until they begin to char, 6 to 7 minutes.)\\\"]\"\n        ],\n        \"semantic_type\": \"\",\n        \"description\": \"\"\n      }\n    },\n    {\n      \"column\": \"num_ingredients\",\n      \"properties\": {\n        \"dtype\": \"number\",\n        \"std\": 2,\n        \"min\": 3,\n        \"max\": 9,\n        \"num_unique_values\": 3,\n        \"samples\": [\n          9\n        ],\n        \"semantic_type\": \"\",\n        \"description\": \"\"\n      }\n    },\n    {\n      \"column\": \"num_steps\",\n      \"properties\": {\n        \"dtype\": \"number\",\n        \"std\": 2,\n        \"min\": 4,\n        \"max\": 9,\n        \"num_unique_values\": 3,\n        \"samples\": [\n          5\n        ],\n        \"semantic_type\": \"\",\n        \"description\": \"\"\n      }\n    }\n  ]\n}"
            }
          },
          "metadata": {}
        }
      ]
    },
    {
      "cell_type": "markdown",
      "source": [
        "# Import"
      ],
      "metadata": {
        "id": "CZcwQQibQlER"
      }
    },
    {
      "cell_type": "code",
      "source": [
        "import pandas as pd\n",
        "import numpy as np\n",
        "import json\n",
        "import re\n",
        "from collections import Counter, defaultdict\n",
        "import matplotlib.pyplot as plt\n",
        "import seaborn as sns\n",
        "from itertools import combinations\n",
        "import warnings\n",
        "warnings.filterwarnings('ignore')"
      ],
      "metadata": {
        "id": "UTl08acVQhVy"
      },
      "execution_count": 45,
      "outputs": []
    },
    {
      "cell_type": "markdown",
      "source": [
        "# SETUP + EXPLORAÇÃO"
      ],
      "metadata": {
        "id": "pLyr67MFQnER"
      }
    },
    {
      "cell_type": "code",
      "source": [
        "print(f\"\\nTotal de receitas: {len(df)}\")\n",
        "print(f\"Colunas: {df.columns.tolist()}\")\n",
        "print(f\"\\nCategorias únicas: {df['category'].nunique()}\")\n",
        "print(f\"Subcategorias únicas: {df['subcategory'].nunique()}\")"
      ],
      "metadata": {
        "colab": {
          "base_uri": "https://localhost:8080/"
        },
        "id": "SgVxcejeQpsX",
        "outputId": "df3d4ea1-e659-4b54-90a2-f4183e5a2ac4"
      },
      "execution_count": 46,
      "outputs": [
        {
          "output_type": "stream",
          "name": "stdout",
          "text": [
            "\n",
            "Total de receitas: 62126\n",
            "Colunas: ['recipe_title', 'category', 'subcategory', 'description', 'ingredients', 'directions', 'num_ingredients', 'num_steps']\n",
            "\n",
            "Categorias únicas: 267\n",
            "Subcategorias únicas: 1032\n"
          ]
        }
      ]
    },
    {
      "cell_type": "code",
      "source": [
        "# Estatísticas básicas\n",
        "print(\"\\n--- Estatísticas de Ingredientes e Passos ---\")\n",
        "print(df[['num_ingredients', 'num_steps']].describe())"
      ],
      "metadata": {
        "colab": {
          "base_uri": "https://localhost:8080/"
        },
        "id": "ghpSUD6dQvaW",
        "outputId": "84d6b6ba-d932-49de-a271-4d2433d8a79f"
      },
      "execution_count": 47,
      "outputs": [
        {
          "output_type": "stream",
          "name": "stdout",
          "text": [
            "\n",
            "--- Estatísticas de Ingredientes e Passos ---\n",
            "       num_ingredients     num_steps\n",
            "count     62126.000000  62126.000000\n",
            "mean          9.017448      4.661865\n",
            "std           3.830323      2.310253\n",
            "min           1.000000      1.000000\n",
            "25%           6.000000      3.000000\n",
            "50%           9.000000      4.000000\n",
            "75%          11.000000      6.000000\n",
            "max          35.000000     25.000000\n"
          ]
        }
      ]
    },
    {
      "cell_type": "code",
      "source": [
        "# Top 10 categorias\n",
        "print(\"\\n--- Top 10 Categorias ---\")\n",
        "print(df['category'].value_counts().head(10))\n"
      ],
      "metadata": {
        "colab": {
          "base_uri": "https://localhost:8080/"
        },
        "id": "6o9sXbAzQxis",
        "outputId": "bb6d2beb-94b9-4f9e-b7d8-78f8926c3bfc"
      },
      "execution_count": 48,
      "outputs": [
        {
          "output_type": "stream",
          "name": "stdout",
          "text": [
            "\n",
            "--- Top 10 Categorias ---\n",
            "category\n",
            "Main Dishes              3387\n",
            "Healthy Recipes          2237\n",
            "Appetizers And Snacks    2084\n",
            "Cakes                    1954\n",
            "Cookies                  1849\n",
            "Beef Recipes             1400\n",
            "Breads                   1352\n",
            "Desserts                 1288\n",
            "Breakfast And Brunch     1223\n",
            "Pork                     1205\n",
            "Name: count, dtype: int64\n"
          ]
        }
      ]
    },
    {
      "cell_type": "markdown",
      "source": [
        "# PRÉ-PROCESSAMENTO"
      ],
      "metadata": {
        "id": "i9qUSyqPQ3iw"
      }
    },
    {
      "cell_type": "code",
      "source": [
        "def parse_ingredients(ingredient_str):\n",
        "    \"\"\"Parse string JSON de ingredientes\"\"\"\n",
        "    try:\n",
        "        return json.loads(ingredient_str)\n",
        "    except:\n",
        "        return []\n",
        "\n",
        "def normalize_ingredient(ingredient):\n",
        "    \"\"\"Normaliza um ingrediente removendo quantidades e formatando\"\"\"\n",
        "    # Remove quantidades (números, frações, unidades)\n",
        "    ingredient = re.sub(r'\\d+[\\s]*[/-]?[\\s]*\\d*', '', ingredient)\n",
        "\n",
        "    # Remove unidades comuns\n",
        "    units = ['cup', 'cups', 'tablespoon', 'tablespoons', 'teaspoon', 'teaspoons',\n",
        "             'pound', 'pounds', 'ounce', 'ounces', 'gram', 'grams', 'kg', 'ml',\n",
        "             'liter', 'liters', 'tbsp', 'tsp', 'oz', 'lb', 'g']\n",
        "\n",
        "    for unit in units:\n",
        "        ingredient = re.sub(rf'\\b{unit}s?\\b', '', ingredient, flags=re.IGNORECASE)\n",
        "\n",
        "    # Remove parênteses e conteúdo\n",
        "    ingredient = re.sub(r'\\([^)]*\\)', '', ingredient)\n",
        "\n",
        "    # Limpa pontuação e espaços extras\n",
        "    ingredient = re.sub(r'[,;]', '', ingredient)\n",
        "    ingredient = ' '.join(ingredient.split())\n",
        "\n",
        "    return ingredient.lower().strip()"
      ],
      "metadata": {
        "id": "3gz5UmXOQ2RC"
      },
      "execution_count": 49,
      "outputs": []
    },
    {
      "cell_type": "code",
      "source": [
        "# Parse e normaliza ingredientes\n",
        "df['ingredients_list'] = df['ingredients'].apply(parse_ingredients)\n",
        "df['ingredients_normalized'] = df['ingredients_list'].apply(\n",
        "    lambda x: [normalize_ingredient(i) for i in x if normalize_ingredient(i)]\n",
        ")\n",
        "\n",
        "# Cria vocabulário de ingredientes\n",
        "all_ingredients = []\n",
        "for ingredients in df['ingredients_normalized']:\n",
        "    all_ingredients.extend(ingredients)\n",
        "\n",
        "ingredient_vocab = Counter(all_ingredients)"
      ],
      "metadata": {
        "id": "8irxBc7GQzKg"
      },
      "execution_count": 50,
      "outputs": []
    },
    {
      "cell_type": "code",
      "source": [
        "print(f\"\\nTotal de ingredientes únicos: {len(ingredient_vocab)}\")\n",
        "print(f\"\\n--- Top 20 Ingredientes Mais Comuns ---\")\n",
        "for ing, count in ingredient_vocab.most_common(20):\n",
        "    print(f\"{ing}: {count}\")"
      ],
      "metadata": {
        "colab": {
          "base_uri": "https://localhost:8080/"
        },
        "id": "Nv3xOzI7Q-5S",
        "outputId": "8130eab7-ccd4-4368-9959-31773108973f"
      },
      "execution_count": 51,
      "outputs": [
        {
          "output_type": "stream",
          "name": "stdout",
          "text": [
            "\n",
            "Total de ingredientes únicos: 42697\n",
            "\n",
            "--- Top 20 Ingredientes Mais Comuns ---\n",
            "white sugar: 8651\n",
            "salt: 8342\n",
            "all-purpose flour: 7332\n",
            "vanilla extract: 7027\n",
            "½ salt: 6302\n",
            "olive oil: 6180\n",
            "water: 5229\n",
            "large eggs: 4911\n",
            "butter: 4666\n",
            "baking powder: 4104\n",
            "eggs: 3932\n",
            "cloves garlic minced: 3904\n",
            "½ white sugar: 3747\n",
            "ground cinnamon: 3604\n",
            "vegetable oil: 3585\n",
            "baking soda: 3330\n",
            "milk: 3190\n",
            "¼ salt: 3152\n",
            "salt and ground black pepper to taste: 3062\n",
            "cooking spray: 2982\n"
          ]
        }
      ]
    },
    {
      "cell_type": "code",
      "source": [
        "# Filtra ingredientes muito raros (aparecem menos de 5 vezes)\n",
        "MIN_FREQUENCY = 5\n",
        "filtered_vocab = {k: v for k, v in ingredient_vocab.items() if v >= MIN_FREQUENCY}\n",
        "print(f\"\\nIngredientes após filtro (>={MIN_FREQUENCY}x): {len(filtered_vocab)}\")"
      ],
      "metadata": {
        "colab": {
          "base_uri": "https://localhost:8080/"
        },
        "id": "3CU65dhURHJ4",
        "outputId": "98774d2f-1983-436a-f154-c820a5e83b07"
      },
      "execution_count": 52,
      "outputs": [
        {
          "output_type": "stream",
          "name": "stdout",
          "text": [
            "\n",
            "Ingredientes após filtro (>=5x): 13040\n"
          ]
        }
      ]
    },
    {
      "cell_type": "code",
      "source": [
        "# Atualiza dataframe com ingredientes filtrados\n",
        "df['ingredients_filtered'] = df['ingredients_normalized'].apply(\n",
        "    lambda x: [i for i in x if i in filtered_vocab]\n",
        ")"
      ],
      "metadata": {
        "id": "7jfizme_RKm7"
      },
      "execution_count": 53,
      "outputs": []
    },
    {
      "cell_type": "markdown",
      "source": [
        "# CO-OCORRÊNCIAS"
      ],
      "metadata": {
        "id": "8HYOy7GbRV51"
      }
    },
    {
      "cell_type": "code",
      "source": [
        "cooccurrence_matrix = defaultdict(lambda: defaultdict(int))\n",
        "\n",
        "for ingredients in df['ingredients_filtered']:\n",
        "    # Conta co-ocorrências de pares\n",
        "    for ing1, ing2 in combinations(ingredients, 2):\n",
        "        if ing1 != ing2:\n",
        "            cooccurrence_matrix[ing1][ing2] += 1\n",
        "            cooccurrence_matrix[ing2][ing1] += 1\n",
        "\n",
        "print(f\"\\nMatriz de co-ocorrências construída\")"
      ],
      "metadata": {
        "colab": {
          "base_uri": "https://localhost:8080/"
        },
        "id": "I0tIaZtxRTKF",
        "outputId": "c1f50a11-da3f-46f7-902d-86bd2af0260e"
      },
      "execution_count": 54,
      "outputs": [
        {
          "output_type": "stream",
          "name": "stdout",
          "text": [
            "\n",
            "Matriz de co-ocorrências construída\n"
          ]
        }
      ]
    },
    {
      "cell_type": "code",
      "source": [
        "# Calcula métricas de associação\n",
        "def calculate_association_metrics(ing1, ing2, cooccurrence_matrix, ingredient_vocab):\n",
        "    \"\"\"Calcula support, confidence e lift\"\"\"\n",
        "    co_count = cooccurrence_matrix[ing1][ing2]\n",
        "    ing1_count = ingredient_vocab[ing1]\n",
        "    ing2_count = ingredient_vocab[ing2]\n",
        "    total_recipes = len(df)\n",
        "\n",
        "    support = co_count / total_recipes\n",
        "    confidence = co_count / ing1_count if ing1_count > 0 else 0\n",
        "    lift = (co_count * total_recipes) / (ing1_count * ing2_count) if ing1_count * ing2_count > 0 else 0\n",
        "\n",
        "    return {\n",
        "        'support': support,\n",
        "        'confidence': confidence,\n",
        "        'lift': lift,\n",
        "        'count': co_count\n",
        "    }\n",
        "\n",
        "# Encontra combinações fortes\n",
        "strong_associations = []"
      ],
      "metadata": {
        "id": "dqZjWf0tRYm4"
      },
      "execution_count": 55,
      "outputs": []
    },
    {
      "cell_type": "code",
      "source": [
        "# Pega top ingredientes para análise (evita combinatória explosiva)\n",
        "top_ingredients = [ing for ing, _ in ingredient_vocab.most_common(100)]\n",
        "\n",
        "for ing1 in top_ingredients:\n",
        "    for ing2, count in cooccurrence_matrix[ing1].items():\n",
        "        if ing2 in top_ingredients and count >= 10:  # Threshold mínimo\n",
        "            metrics = calculate_association_metrics(ing1, ing2, cooccurrence_matrix, ingredient_vocab)\n",
        "            if metrics['lift'] > 1.2:  # Lift > 1 indica associação positiva\n",
        "                strong_associations.append({\n",
        "                    'ing1': ing1,\n",
        "                    'ing2': ing2,\n",
        "                    **metrics\n",
        "                })\n",
        "\n",
        "# Ordena por lift\n",
        "strong_associations.sort(key=lambda x: x['lift'], reverse=True)"
      ],
      "metadata": {
        "id": "2e3V3r86RcJB"
      },
      "execution_count": 56,
      "outputs": []
    },
    {
      "cell_type": "code",
      "source": [
        "print(f\"\\nAssociações fortes encontradas: {len(strong_associations)}\")\n",
        "print(\"\\n--- Top 15 Combinações com Maior Lift ---\")\n",
        "for assoc in strong_associations[:15]:\n",
        "    print(f\"{assoc['ing1']} + {assoc['ing2']}: lift={assoc['lift']:.2f}, count={assoc['count']}\")"
      ],
      "metadata": {
        "colab": {
          "base_uri": "https://localhost:8080/"
        },
        "id": "fGlKFTz8RfnU",
        "outputId": "efd7782d-7694-48b6-88bb-7bdc74e4d415"
      },
      "execution_count": 57,
      "outputs": [
        {
          "output_type": "stream",
          "name": "stdout",
          "text": [
            "\n",
            "Associações fortes encontradas: 3680\n",
            "\n",
            "--- Top 15 Combinações com Maior Lift ---\n",
            "garlic powder + onion powder: lift=20.61, count=562\n",
            "onion powder + garlic powder: lift=20.61, count=562\n",
            "soy sauce + sesame oil: lift=19.43, count=395\n",
            "sesame oil + soy sauce: lift=19.43, count=395\n",
            "ground ginger + ground nutmeg: lift=19.17, count=156\n",
            "ground nutmeg + ground ginger: lift=19.17, count=156\n",
            "dried oregano + dried basil: lift=17.49, count=278\n",
            "dried basil + dried oregano: lift=17.49, count=278\n",
            "onion powder + cayenne pepper: lift=14.70, count=136\n",
            "cayenne pepper + onion powder: lift=14.70, count=136\n",
            "ground cumin + chili powder: lift=14.08, count=602\n",
            "chili powder + ground cumin: lift=14.08, count=602\n",
            "paprika + cayenne pepper: lift=14.01, count=157\n",
            "cayenne pepper + paprika: lift=14.01, count=157\n",
            "semisweet chocolate chips + chopped walnuts: lift=13.84, count=107\n"
          ]
        }
      ]
    },
    {
      "cell_type": "code",
      "source": [
        "def generate_recipe_ingredients(base_ingredients, n_suggestions=5, category=None):\n",
        "    \"\"\"\n",
        "    Gera sugestões de ingredientes adicionais baseado em co-ocorrências\n",
        "\n",
        "    Args:\n",
        "        base_ingredients: lista de ingredientes iniciais\n",
        "        n_suggestions: número de sugestões\n",
        "        category: categoria opcional para filtrar\n",
        "    \"\"\"\n",
        "    suggestions = defaultdict(float)\n",
        "\n",
        "    # Normaliza ingredientes de entrada\n",
        "    base_normalized = [normalize_ingredient(ing) for ing in base_ingredients]\n",
        "\n",
        "    # Filtra receitas por categoria se especificado\n",
        "    recipes_subset = df if category is None else df[df['category'] == category]\n",
        "\n",
        "    # Para cada ingrediente base, encontra co-ocorrências\n",
        "    for base_ing in base_normalized:\n",
        "        if base_ing in cooccurrence_matrix:\n",
        "            for co_ing, count in cooccurrence_matrix[base_ing].items():\n",
        "                if co_ing not in base_normalized:\n",
        "                    # Score baseado em lift e frequência\n",
        "                    metrics = calculate_association_metrics(base_ing, co_ing, cooccurrence_matrix, ingredient_vocab)\n",
        "                    suggestions[co_ing] += metrics['lift'] * np.log(count + 1)\n",
        "\n",
        "    # Ordena e retorna top N\n",
        "    sorted_suggestions = sorted(suggestions.items(), key=lambda x: x[1], reverse=True)\n",
        "    return [(ing, score) for ing, score in sorted_suggestions[:n_suggestions]]"
      ],
      "metadata": {
        "id": "5gc_GYedRhzK"
      },
      "execution_count": 58,
      "outputs": []
    },
    {
      "cell_type": "code",
      "source": [
        "test_cases = [\n",
        "    ([\"chicken\", \"garlic\"], None),\n",
        "    ([\"chocolate\", \"butter\"], \"Desserts\"),\n",
        "    ([\"tomato\", \"basil\", \"mozzarella\"], None)\n",
        "]"
      ],
      "metadata": {
        "id": "aolLCMQ5RogV"
      },
      "execution_count": 59,
      "outputs": []
    },
    {
      "cell_type": "code",
      "source": [
        "for base, cat in test_cases:\n",
        "    print(f\"\\n--- Ingredientes base: {base}\" + (f\" | Categoria: {cat}\" if cat else \"\") + \" ---\")\n",
        "    suggestions = generate_recipe_ingredients(base, n_suggestions=8, category=cat)\n",
        "    for ing, score in suggestions:\n",
        "        print(f\"  • {ing} (score: {score:.2f})\")"
      ],
      "metadata": {
        "colab": {
          "base_uri": "https://localhost:8080/"
        },
        "id": "bbmcAWb-RrQ2",
        "outputId": "ba0ab60c-1659-4199-f28f-43796079a7aa"
      },
      "execution_count": 60,
      "outputs": [
        {
          "output_type": "stream",
          "name": "stdout",
          "text": [
            "\n",
            "--- Ingredientes base: ['chicken', 'garlic'] ---\n",
            "  • harissa paste (score: 1957.38)\n",
            "  • alamata olives (score: 1468.04)\n",
            "  • small red onion thinly sliced (score: 1304.92)\n",
            "  • strip steak (score: 1113.15)\n",
            "  • fettucine or other pasta (score: 1113.15)\n",
            "  • packages cremini mushrooms (score: 1113.15)\n",
            "  • container chive-and-onion cream cheese (score: 1113.15)\n",
            "  • flat-leaf parsley (score: 1113.15)\n",
            "\n",
            "--- Ingredientes base: ['chocolate', 'butter'] | Categoria: Desserts ---\n",
            "  • pieces pre-cut refrigerated chocolate chip cookie dough (score: 11131.48)\n",
            "  • scoop vanilla gelato (score: 11131.48)\n",
            "  • candy-coated chocolate pieces (score: 5167.50)\n",
            "  • ¼ superfine sugar (score: 1137.54)\n",
            "  • whipped cream (score: 821.93)\n",
            "  • ⅓ almond flour (score: 802.97)\n",
            "  • ⅔ confectioners' sugar (score: 441.28)\n",
            "  • sprinkles (score: 421.18)\n",
            "\n",
            "--- Ingredientes base: ['tomato', 'basil', 'mozzarella'] ---\n",
            "  • large basil leaves roughly torn (score: 9299.35)\n",
            "  • can great northern beans (score: 7177.08)\n",
            "  • oregano preferably mexican oregano (score: 6219.58)\n",
            "  • shredded monterey jack or cheddar cheese (score: 6219.58)\n",
            "  • butter lettuce leaves (score: 5597.62)\n",
            "  • prosciutto roughly torn (score: 5579.61)\n",
            "  • pimento cheese spread (score: 4839.78)\n",
            "  • avocado oil or other vegetable oil (score: 3998.30)\n"
          ]
        }
      ]
    },
    {
      "cell_type": "markdown",
      "source": [
        "# CORRELAÇÃO CATEGORIA"
      ],
      "metadata": {
        "id": "Dhk8mL_jRyZ7"
      }
    },
    {
      "cell_type": "code",
      "source": [
        "from sklearn.feature_extraction.text import TfidfVectorizer\n",
        "\n",
        "# Prepara documentos por categoria\n",
        "category_documents = df.groupby('category')['ingredients_filtered'].apply(\n",
        "    lambda x: ' '.join([' '.join(ingredients) for ingredients in x])\n",
        ").to_dict()\n",
        "\n",
        "print(f\"\\nCategorias analisadas: {len(category_documents)}\")"
      ],
      "metadata": {
        "colab": {
          "base_uri": "https://localhost:8080/"
        },
        "id": "ccYQlEFPRs9h",
        "outputId": "595ca86b-f927-4d39-acc0-d0ae6d5f5835"
      },
      "execution_count": 61,
      "outputs": [
        {
          "output_type": "stream",
          "name": "stdout",
          "text": [
            "\n",
            "Categorias analisadas: 267\n"
          ]
        }
      ]
    },
    {
      "cell_type": "code",
      "source": [
        "# TF-IDF por categoria\n",
        "def get_category_markers(category_documents, top_n=10):\n",
        "    \"\"\"Identifica ingredientes marcadores de cada categoria\"\"\"\n",
        "    category_markers = {}\n",
        "\n",
        "    for category, doc in category_documents.items():\n",
        "        # TF-IDF simples: conta frequências\n",
        "        words = doc.split()\n",
        "        word_freq = Counter(words)\n",
        "        total_words = len(words)\n",
        "\n",
        "        # TF\n",
        "        tf = {word: count / total_words for word, count in word_freq.items()}\n",
        "\n",
        "        # IDF: quantas categorias têm esse ingrediente\n",
        "        idf = {}\n",
        "        for word in word_freq:\n",
        "            categories_with_word = sum(1 for cat_doc in category_documents.values() if word in cat_doc)\n",
        "            idf[word] = np.log(len(category_documents) / categories_with_word)\n",
        "\n",
        "        # TF-IDF\n",
        "        tfidf = {word: tf[word] * idf[word] for word in tf}\n",
        "\n",
        "        # Top N marcadores\n",
        "        top_markers = sorted(tfidf.items(), key=lambda x: x[1], reverse=True)[:top_n]\n",
        "        category_markers[category] = top_markers\n",
        "\n",
        "    return category_markers\n",
        "\n",
        "category_markers = get_category_markers(category_documents, top_n=10)"
      ],
      "metadata": {
        "id": "Rku95TI1R2iB"
      },
      "execution_count": 62,
      "outputs": []
    },
    {
      "cell_type": "code",
      "source": [
        "# Mostra marcadores de categorias selecionadas\n",
        "sample_categories = list(category_documents.keys())[:5]\n",
        "print(\"\\n--- Ingredientes Marcadores por Categoria (Top 5) ---\")\n",
        "for cat in sample_categories:\n",
        "    print(f\"\\n{cat}:\")\n",
        "    for ing, score in category_markers[cat][:5]:\n",
        "        print(f\"  • {ing} (TF-IDF: {score:.4f})\")"
      ],
      "metadata": {
        "colab": {
          "base_uri": "https://localhost:8080/"
        },
        "id": "TtrFoRT5R5Bv",
        "outputId": "f163c236-4469-4f1a-fa05-9373e3a99db7"
      },
      "execution_count": 63,
      "outputs": [
        {
          "output_type": "stream",
          "name": "stdout",
          "text": [
            "\n",
            "--- Ingredientes Marcadores por Categoria (Top 5) ---\n",
            "\n",
            "Air Fryer Recipes:\n",
            "  • garlic (TF-IDF: 0.0079)\n",
            "  • panko (TF-IDF: 0.0061)\n",
            "  • pepper (TF-IDF: 0.0060)\n",
            "  • spray (TF-IDF: 0.0059)\n",
            "  • paprika (TF-IDF: 0.0057)\n",
            "\n",
            "Allrecipes Allstar Recipes:\n",
            "  • / (TF-IDF: 0.0083)\n",
            "  • fluid (TF-IDF: 0.0061)\n",
            "  • extract (TF-IDF: 0.0054)\n",
            "  • garlic (TF-IDF: 0.0051)\n",
            "  • vanilla (TF-IDF: 0.0049)\n",
            "\n",
            "Angel Food Cakes:\n",
            "  • tartar (TF-IDF: 0.0612)\n",
            "  • cake (TF-IDF: 0.0455)\n",
            "  • whites (TF-IDF: 0.0417)\n",
            "  • extract (TF-IDF: 0.0399)\n",
            "  • vanilla (TF-IDF: 0.0276)\n",
            "\n",
            "Antipasti:\n",
            "  • toothpicks (TF-IDF: 0.0107)\n",
            "  • cherry (TF-IDF: 0.0099)\n",
            "  • tomatoes (TF-IDF: 0.0088)\n",
            "  • prosciutto (TF-IDF: 0.0084)\n",
            "  • capers (TF-IDF: 0.0078)\n",
            "\n",
            "Appetizers And Snacks:\n",
            "  • garlic (TF-IDF: 0.0054)\n",
            "  • mayonnaise (TF-IDF: 0.0047)\n",
            "  • pepper (TF-IDF: 0.0042)\n",
            "  • cheese (TF-IDF: 0.0040)\n",
            "  • popcorn (TF-IDF: 0.0039)\n"
          ]
        }
      ]
    },
    {
      "cell_type": "code",
      "source": [
        "# FUNÇÃO GERADORA MELHORADA COM CATEGORIA\n",
        "def generate_recipe_ingredients_v2(base_ingredients, n_suggestions=5, category=None):\n",
        "    \"\"\"\n",
        "    Versão melhorada que considera marcadores de categoria\n",
        "    \"\"\"\n",
        "    suggestions = defaultdict(float)\n",
        "    base_normalized = [normalize_ingredient(ing) for ing in base_ingredients]\n",
        "\n",
        "    # Score de co-ocorrências\n",
        "    for base_ing in base_normalized:\n",
        "        if base_ing in cooccurrence_matrix:\n",
        "            for co_ing, count in cooccurrence_matrix[base_ing].items():\n",
        "                if co_ing not in base_normalized:\n",
        "                    metrics = calculate_association_metrics(base_ing, co_ing, cooccurrence_matrix, ingredient_vocab)\n",
        "                    suggestions[co_ing] += metrics['lift'] * np.log(count + 1)\n",
        "\n",
        "    # Boost se combina com categoria\n",
        "    if category and category in category_markers:\n",
        "        category_ings = {ing: score for ing, score in category_markers[category]}\n",
        "        for ing in suggestions:\n",
        "            if ing in category_ings:\n",
        "                suggestions[ing] *= (1 + category_ings[ing])  # Boost proporcional ao TF-IDF\n",
        "\n",
        "    sorted_suggestions = sorted(suggestions.items(), key=lambda x: x[1], reverse=True)\n",
        "    return [(ing, score) for ing, score in sorted_suggestions[:n_suggestions]]"
      ],
      "metadata": {
        "id": "3EuV4xyXSH0A"
      },
      "execution_count": 64,
      "outputs": []
    },
    {
      "cell_type": "code",
      "source": [
        "test_base = [\"chicken\", \"soy sauce\"]\n",
        "test_category = \"Asian Recipes\"\n",
        "\n",
        "print(f\"\\nIngredientes base: {test_base}\")\n",
        "print(f\"Categoria: {test_category}\\n\")\n",
        "\n",
        "print(\"V1 (sem boost de categoria):\")\n",
        "v1_suggestions = generate_recipe_ingredients(test_base, n_suggestions=8, category=test_category)\n",
        "for ing, score in v1_suggestions:\n",
        "    print(f\"  • {ing} (score: {score:.2f})\")\n",
        "\n",
        "print(\"\\nV2 (com boost de categoria):\")\n",
        "v2_suggestions = generate_recipe_ingredients_v2(test_base, n_suggestions=8, category=test_category)\n",
        "for ing, score in v2_suggestions:\n",
        "    print(f\"  • {ing} (score: {score:.2f})\")"
      ],
      "metadata": {
        "colab": {
          "base_uri": "https://localhost:8080/"
        },
        "id": "j3oSetxgTBzz",
        "outputId": "36a501a5-ed0a-4fd6-ae6e-3e065ed77c55"
      },
      "execution_count": 65,
      "outputs": [
        {
          "output_type": "stream",
          "name": "stdout",
          "text": [
            "\n",
            "Ingredientes base: ['chicken', 'soy sauce']\n",
            "Categoria: Asian Recipes\n",
            "\n",
            "V1 (sem boost de categoria):\n",
            "  • harissa paste (score: 1957.38)\n",
            "  • alamata olives (score: 1468.04)\n",
            "  • small red onion thinly sliced (score: 1306.37)\n",
            "  • / brown sugar (score: 978.69)\n",
            "  • fresh oregano (score: 460.56)\n",
            "  • carrots (score: 322.60)\n",
            "  • large onion halved (score: 244.67)\n",
            "  • very finely minced fresh ginger (score: 221.86)\n",
            "\n",
            "V2 (com boost de categoria):\n",
            "  • harissa paste (score: 1957.38)\n",
            "  • alamata olives (score: 1468.04)\n",
            "  • small red onion thinly sliced (score: 1306.37)\n",
            "  • / brown sugar (score: 978.69)\n",
            "  • fresh oregano (score: 460.56)\n",
            "  • carrots (score: 322.60)\n",
            "  • large onion halved (score: 244.67)\n",
            "  • very finely minced fresh ginger (score: 221.86)\n"
          ]
        }
      ]
    },
    {
      "cell_type": "markdown",
      "source": [
        "# EMBEDDINGS + SUBSTITUIÇÕES"
      ],
      "metadata": {
        "id": "hBgn7Gk7TPk7"
      }
    },
    {
      "cell_type": "code",
      "source": [
        "from sklearn.feature_extraction.text import CountVectorizer\n",
        "from sklearn.metrics.pairwise import cosine_similarity"
      ],
      "metadata": {
        "id": "4v5pxX0wTIRL"
      },
      "execution_count": 66,
      "outputs": []
    },
    {
      "cell_type": "code",
      "source": [
        "# Cria contextos para cada ingrediente\n",
        "def create_ingredient_contexts(df):\n",
        "    \"\"\"Cria contexto de cada ingrediente baseado em com quem aparece\"\"\"\n",
        "    contexts = defaultdict(list)\n",
        "\n",
        "    for ingredients in df['ingredients_filtered']:\n",
        "        for ing in ingredients:\n",
        "            # Contexto = outros ingredientes na mesma receita\n",
        "            context = [i for i in ingredients if i != ing]\n",
        "            contexts[ing].extend(context)\n",
        "\n",
        "    return contexts\n",
        "\n",
        "ingredient_contexts = create_ingredient_contexts(df)"
      ],
      "metadata": {
        "id": "xTaXz3b0TWJP"
      },
      "execution_count": 67,
      "outputs": []
    },
    {
      "cell_type": "code",
      "source": [
        "# Cria embeddings simples baseados em co-ocorrência\n",
        "def create_cooccurrence_embeddings(contexts, vocab, min_count=10):\n",
        "    \"\"\"Cria embeddings baseados em co-ocorrência\"\"\"\n",
        "    # Filtra ingredientes com contexto suficiente\n",
        "    valid_ingredients = [ing for ing in vocab if len(contexts[ing]) >= min_count]\n",
        "\n",
        "    # Cria vetor de co-ocorrência para cada ingrediente\n",
        "    embeddings = {}\n",
        "\n",
        "    for ing in valid_ingredients:\n",
        "        context_vector = Counter(contexts[ing])\n",
        "        embeddings[ing] = context_vector\n",
        "\n",
        "    return embeddings, valid_ingredients\n",
        "\n",
        "embeddings, valid_ingredients = create_cooccurrence_embeddings(\n",
        "    ingredient_contexts,\n",
        "    filtered_vocab,\n",
        "    min_count=10\n",
        ")\n",
        "\n",
        "print(f\"\\nEmbeddings criados para {len(embeddings)} ingredientes\")\n"
      ],
      "metadata": {
        "colab": {
          "base_uri": "https://localhost:8080/"
        },
        "id": "EPUgMvYXTYCi",
        "outputId": "f24ae73f-4d24-4dd3-9b76-ecb2b751676b"
      },
      "execution_count": 68,
      "outputs": [
        {
          "output_type": "stream",
          "name": "stdout",
          "text": [
            "\n",
            "Embeddings criados para 13001 ingredientes\n"
          ]
        }
      ]
    },
    {
      "cell_type": "code",
      "source": [
        "# Calcula similaridade entre ingredientes\n",
        "def find_similar_ingredients(target_ingredient, embeddings, top_n=5):\n",
        "    \"\"\"Encontra ingredientes similares baseado em embeddings\"\"\"\n",
        "    if target_ingredient not in embeddings:\n",
        "        return []\n",
        "\n",
        "    target_vector = embeddings[target_ingredient]\n",
        "    similarities = []\n",
        "\n",
        "    for ing, vector in embeddings.items():\n",
        "        if ing != target_ingredient:\n",
        "            # Similaridade de cosseno entre vetores de co-ocorrência\n",
        "            common_contexts = set(target_vector.keys()) & set(vector.keys())\n",
        "            if common_contexts:\n",
        "                dot_product = sum(target_vector[ctx] * vector[ctx] for ctx in common_contexts)\n",
        "                norm1 = np.sqrt(sum(v**2 for v in target_vector.values()))\n",
        "                norm2 = np.sqrt(sum(v**2 for v in vector.values()))\n",
        "                similarity = dot_product / (norm1 * norm2) if norm1 * norm2 > 0 else 0\n",
        "                similarities.append((ing, similarity))\n",
        "\n",
        "    similarities.sort(key=lambda x: x[1], reverse=True)\n",
        "    return similarities[:top_n]"
      ],
      "metadata": {
        "id": "CeTGcPTkTaq5"
      },
      "execution_count": 69,
      "outputs": []
    },
    {
      "cell_type": "code",
      "source": [
        "# TESTE DE SUBSTITUIÇÕES\n",
        "print(\"\\n--- Teste de Substituições ---\")\n",
        "test_ingredients = [\"chicken\", \"butter\", \"milk\", \"beef\", \"olive oil\"]\n",
        "\n",
        "for ing in test_ingredients:\n",
        "    if ing in embeddings:\n",
        "        print(f\"\\nSubstituições para '{ing}':\")\n",
        "        similar = find_similar_ingredients(ing, embeddings, top_n=5)\n",
        "        for sim_ing, score in similar:\n",
        "            print(f\"  • {sim_ing} (similaridade: {score:.3f})\")"
      ],
      "metadata": {
        "colab": {
          "base_uri": "https://localhost:8080/"
        },
        "id": "2bkx3_tUTdZ5",
        "outputId": "cf874bb2-0914-44d4-cd72-4cb12851c366"
      },
      "execution_count": 70,
      "outputs": [
        {
          "output_type": "stream",
          "name": "stdout",
          "text": [
            "\n",
            "--- Teste de Substituições ---\n",
            "\n",
            "Substituições para 'chicken':\n",
            "  • harissa paste (similaridade: 0.473)\n",
            "  • / chicken broth (similaridade: 0.438)\n",
            "  • cloves garlic (similaridade: 0.417)\n",
            "  • dry bucatini pasta (similaridade: 0.416)\n",
            "  • salt and freshly ground black pepper to taste (similaridade: 0.411)\n",
            "\n",
            "Substituições para 'butter':\n",
            "  • ¼ butter (similaridade: 0.877)\n",
            "  • butter melted (similaridade: 0.859)\n",
            "  • ½ butter (similaridade: 0.859)\n",
            "  • milk (similaridade: 0.859)\n",
            "  • vegetable oil (similaridade: 0.852)\n",
            "\n",
            "Substituições para 'milk':\n",
            "  • ½ milk (similaridade: 0.935)\n",
            "  • ¾ milk (similaridade: 0.903)\n",
            "  • baking soda (similaridade: 0.898)\n",
            "  • butter melted (similaridade: 0.898)\n",
            "  • ¼ milk (similaridade: 0.896)\n",
            "\n",
            "Substituições para 'olive oil':\n",
            "  • olive oil divided (similaridade: 0.817)\n",
            "  • ground beef (similaridade: 0.803)\n",
            "  • extra-virgin olive oil (similaridade: 0.802)\n",
            "  • ½ olive oil (similaridade: 0.798)\n",
            "  • ¼ olive oil (similaridade: 0.791)\n"
          ]
        }
      ]
    },
    {
      "cell_type": "code",
      "source": [
        "# FUNÇÃO GERADORA FINAL COM SUBSTITUIÇÕES\n",
        "def generate_recipe_final(base_ingredients, n_suggestions=5, category=None,\n",
        "                         restrictions=None, allow_substitutions=True):\n",
        "    \"\"\"\n",
        "    Versão final: co-ocorrências + categoria + substituições\n",
        "\n",
        "    Args:\n",
        "        base_ingredients: lista de ingredientes base\n",
        "        n_suggestions: número de sugestões\n",
        "        category: categoria opcional\n",
        "        restrictions: lista de ingredientes a evitar\n",
        "        allow_substitutions: se True, sugere substituições para restrições\n",
        "    \"\"\"\n",
        "    suggestions = defaultdict(float)\n",
        "    base_normalized = [normalize_ingredient(ing) for ing in base_ingredients]\n",
        "    restrictions = [normalize_ingredient(r) for r in (restrictions or [])]\n",
        "\n",
        "    # Verifica se algum ingrediente base está nas restrições\n",
        "    substitutions_needed = {}\n",
        "    if restrictions and allow_substitutions:\n",
        "        for base_ing in base_normalized:\n",
        "            if base_ing in restrictions:\n",
        "                similar = find_similar_ingredients(base_ing, embeddings, top_n=3)\n",
        "                if similar:\n",
        "                    substitutions_needed[base_ing] = similar[0][0]  # Melhor substituto\n",
        "\n",
        "    # Aplica substituições\n",
        "    working_ingredients = base_normalized.copy()\n",
        "    for original, substitute in substitutions_needed.items():\n",
        "        working_ingredients.remove(original)\n",
        "        working_ingredients.append(substitute)\n",
        "\n",
        "    # Score de co-ocorrências\n",
        "    for base_ing in working_ingredients:\n",
        "        if base_ing in cooccurrence_matrix:\n",
        "            for co_ing, count in cooccurrence_matrix[base_ing].items():\n",
        "                if co_ing not in working_ingredients and co_ing not in restrictions:\n",
        "                    metrics = calculate_association_metrics(base_ing, co_ing, cooccurrence_matrix, ingredient_vocab)\n",
        "                    suggestions[co_ing] += metrics['lift'] * np.log(count + 1)\n",
        "\n",
        "    # Boost de categoria\n",
        "    if category and category in category_markers:\n",
        "        category_ings = {ing: score for ing, score in category_markers[category]}\n",
        "        for ing in suggestions:\n",
        "            if ing in category_ings:\n",
        "                suggestions[ing] *= (1 + category_ings[ing])\n",
        "\n",
        "    sorted_suggestions = sorted(suggestions.items(), key=lambda x: x[1], reverse=True)\n",
        "\n",
        "    return {\n",
        "        'substitutions': substitutions_needed,\n",
        "        'final_base': working_ingredients,\n",
        "        'suggestions': [(ing, score) for ing, score in sorted_suggestions[:n_suggestions]]\n",
        "    }\n"
      ],
      "metadata": {
        "id": "gZeP9T2sTf8-"
      },
      "execution_count": 71,
      "outputs": []
    },
    {
      "cell_type": "code",
      "source": [
        "# TESTE FINAL\n",
        "print(\"\\n\" + \"=\" * 60)\n",
        "print(\"TESTE FINAL: GERAÇÃO COM SUBSTITUIÇÕES\")\n",
        "print(\"=\" * 60)\n",
        "\n",
        "result = generate_recipe_final(\n",
        "    base_ingredients=[\"chicken\", \"butter\", \"garlic\"],\n",
        "    n_suggestions=8,\n",
        "    category=\"Main Dishes\",\n",
        "    restrictions=[\"butter\"],  # Sem manteiga\n",
        "    allow_substitutions=True\n",
        ")\n",
        "\n",
        "print(f\"\\nIngredientes base: ['chicken', 'butter', 'garlic']\")\n",
        "print(f\"Restrições: sem butter\")\n",
        "print(f\"Categoria: Main Dishes\\n\")\n",
        "\n",
        "if result['substitutions']:\n",
        "    print(\"Substituições aplicadas:\")\n",
        "    for original, substitute in result['substitutions'].items():\n",
        "        print(f\"  • {original} → {substitute}\")\n",
        "\n",
        "print(f\"\\nIngredientes finais da base: {result['final_base']}\")\n",
        "print(\"\\nSugestões de ingredientes adicionais:\")\n",
        "for ing, score in result['suggestions']:\n",
        "    print(f\"  • {ing} (score: {score:.2f})\")"
      ],
      "metadata": {
        "colab": {
          "base_uri": "https://localhost:8080/"
        },
        "id": "9ibsrbr0XaAo",
        "outputId": "59fe2859-6fe1-4dbe-dd3c-ade1e5665f84"
      },
      "execution_count": 72,
      "outputs": [
        {
          "output_type": "stream",
          "name": "stdout",
          "text": [
            "\n",
            "============================================================\n",
            "TESTE FINAL: GERAÇÃO COM SUBSTITUIÇÕES\n",
            "============================================================\n",
            "\n",
            "Ingredientes base: ['chicken', 'butter', 'garlic']\n",
            "Restrições: sem butter\n",
            "Categoria: Main Dishes\n",
            "\n",
            "Substituições aplicadas:\n",
            "  • butter → ¼ butter\n",
            "\n",
            "Ingredientes finais da base: ['chicken', 'garlic', '¼ butter']\n",
            "\n",
            "Sugestões de ingredientes adicionais:\n",
            "  • harissa paste (score: 1957.38)\n",
            "  • alamata olives (score: 1468.04)\n",
            "  • small red onion thinly sliced (score: 1307.76)\n",
            "  • strip steak (score: 1113.15)\n",
            "  • fettucine or other pasta (score: 1113.15)\n",
            "  • packages cremini mushrooms (score: 1113.15)\n",
            "  • container chive-and-onion cream cheese (score: 1113.15)\n",
            "  • flat-leaf parsley (score: 1113.15)\n"
          ]
        }
      ]
    }
  ]
}
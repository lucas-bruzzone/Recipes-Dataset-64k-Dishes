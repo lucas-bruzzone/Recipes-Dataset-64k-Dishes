{
  "nbformat": 4,
  "nbformat_minor": 0,
  "metadata": {
    "colab": {
      "provenance": [],
      "mount_file_id": "16BuUObik44gFGEsHvcVVNXViHoMs-l90",
      "authorship_tag": "ABX9TyN3rPD9MM6cK0hL6yNSDQvO",
      "include_colab_link": true
    },
    "kernelspec": {
      "name": "python3",
      "display_name": "Python 3"
    },
    "language_info": {
      "name": "python"
    }
  },
  "cells": [
    {
      "cell_type": "markdown",
      "metadata": {
        "id": "view-in-github",
        "colab_type": "text"
      },
      "source": [
        "<a href=\"https://colab.research.google.com/github/lucas-bruzzone/Recipes-Dataset-64k-Dishes/blob/main/Dishes_Recipe.ipynb\" target=\"_parent\"><img src=\"https://colab.research.google.com/assets/colab-badge.svg\" alt=\"Open In Colab\"/></a>"
      ]
    },
    {
      "cell_type": "code",
      "metadata": {
        "colab": {
          "base_uri": "https://localhost:8080/"
        },
        "id": "be450de6",
        "outputId": "b66a6968-a13a-477e-c1a7-bf0e369aa296"
      },
      "source": [
        "from google.colab import drive\n",
        "drive.mount('/content/drive')"
      ],
      "execution_count": null,
      "outputs": [
        {
          "output_type": "stream",
          "name": "stdout",
          "text": [
            "Drive already mounted at /content/drive; to attempt to forcibly remount, call drive.mount(\"/content/drive\", force_remount=True).\n"
          ]
        }
      ]
    },
    {
      "cell_type": "markdown",
      "metadata": {
        "id": "bb7fe53b"
      },
      "source": [
        "## Download the dataset\n"
      ]
    },
    {
      "cell_type": "code",
      "metadata": {
        "id": "4d70ebfc"
      },
      "source": [
        "import os\n",
        "import shutil\n",
        "\n",
        "kaggle_dir = os.path.expanduser('~/.kaggle')\n",
        "os.makedirs(kaggle_dir, exist_ok=True)\n",
        "\n",
        "kaggle_json_src = '/content/drive/MyDrive/Colab Notebooks/Recipes Dataset : 64k Dishes/kaggle.json'\n",
        "kaggle_json_dest = os.path.join(kaggle_dir, 'kaggle.json')\n",
        "shutil.copy(kaggle_json_src, kaggle_json_dest)\n",
        "\n",
        "os.chmod(kaggle_json_dest, 0o600)"
      ],
      "execution_count": null,
      "outputs": []
    },
    {
      "cell_type": "code",
      "metadata": {
        "colab": {
          "base_uri": "https://localhost:8080/",
          "height": 53
        },
        "id": "KnQifZajK3i9",
        "outputId": "ab203fdb-2b18-48ce-f800-08ed9c659a70"
      },
      "source": [
        "dataset_name = \"prashantsingh001/recipes-dataset-64k-dishes\"\n",
        "kagglehub.dataset_download(dataset_name)"
      ],
      "execution_count": null,
      "outputs": [
        {
          "output_type": "stream",
          "name": "stdout",
          "text": [
            "Using Colab cache for faster access to the 'recipes-dataset-64k-dishes' dataset.\n"
          ]
        },
        {
          "output_type": "execute_result",
          "data": {
            "text/plain": [
              "'/kaggle/input/recipes-dataset-64k-dishes'"
            ],
            "application/vnd.google.colaboratory.intrinsic+json": {
              "type": "string"
            }
          },
          "metadata": {},
          "execution_count": 5
        }
      ]
    },
    {
      "cell_type": "code",
      "metadata": {
        "colab": {
          "base_uri": "https://localhost:8080/"
        },
        "id": "8Be_8zLEK9wT",
        "outputId": "9f052ddf-8206-4741-d4bb-7700e83268e3"
      },
      "source": [
        "import os\n",
        "import shutil\n",
        "\n",
        "source_dir = '/kaggle/input/recipes-dataset-64k-dishes'\n",
        "destination_dir = '/content/drive/MyDrive/Colab Notebooks/Recipes Dataset : 64k Dishes/dataset'\n",
        "\n",
        "os.makedirs(destination_dir, exist_ok=True)\n",
        "\n",
        "# Copy the contents of the source directory to the destination directory\n",
        "for item in os.listdir(source_dir):\n",
        "    s = os.path.join(source_dir, item)\n",
        "    d = os.path.join(destination_dir, item)\n",
        "    # Use copy instead of move\n",
        "    shutil.copy2(s, d)\n",
        "\n",
        "print(f\"Dataset copied from {source_dir} to {destination_dir}\")"
      ],
      "execution_count": null,
      "outputs": [
        {
          "output_type": "stream",
          "name": "stdout",
          "text": [
            "Dataset copied from /kaggle/input/recipes-dataset-64k-dishes to /content/drive/MyDrive/Colab Notebooks/Recipes Dataset : 64k Dishes/dataset\n"
          ]
        }
      ]
    },
    {
      "cell_type": "code",
      "metadata": {
        "colab": {
          "base_uri": "https://localhost:8080/"
        },
        "id": "_yLWbYSGLDa-",
        "outputId": "5d1d4d3e-bb7b-4140-8f58-affbfd17ef36"
      },
      "source": [
        "import os\n",
        "\n",
        "dataset_dir = '/content/drive/MyDrive/Colab Notebooks/Recipes Dataset : 64k Dishes/dataset'\n",
        "print(os.listdir(dataset_dir))"
      ],
      "execution_count": null,
      "outputs": [
        {
          "output_type": "stream",
          "name": "stdout",
          "text": [
            "['1_Recipe_csv.csv', '2_Recipe_json.json']\n"
          ]
        }
      ]
    },
    {
      "cell_type": "code",
      "metadata": {
        "colab": {
          "base_uri": "https://localhost:8080/",
          "height": 362
        },
        "id": "84f666bd",
        "outputId": "192ef18b-9e7e-4b9e-aa08-d815e9ae7637"
      },
      "source": [
        "import pandas as pd\n",
        "\n",
        "dataset_path = '/content/drive/MyDrive/Colab Notebooks/Recipes Dataset : 64k Dishes/dataset/1_Recipe_csv.csv'\n",
        "df = pd.read_csv(dataset_path)\n",
        "display(df.head())"
      ],
      "execution_count": null,
      "outputs": [
        {
          "output_type": "display_data",
          "data": {
            "text/plain": [
              "                                        recipe_title           category  \\\n",
              "0         Air Fryer Potato Slices with Dipping Sauce  Air Fryer Recipes   \n",
              "1                         Gochujang Pork Belly Bites  Air Fryer Recipes   \n",
              "2  3-Ingredient Air Fryer Everything Bagel Chicke...  Air Fryer Recipes   \n",
              "3         Air Fryer Everything Bagel Chicken Cutlets  Air Fryer Recipes   \n",
              "4              Air Fryer Honey Sriracha Salmon Bites  Air Fryer Recipes   \n",
              "\n",
              "         subcategory                                        description  \\\n",
              "0  Air Fryer Recipes  These air fryer potato slices, served with a b...   \n",
              "1  Air Fryer Recipes  These gochujang pork belly bites are sweet and...   \n",
              "2  Air Fryer Recipes  These 3-ingredient air fryer everything bagel ...   \n",
              "3  Air Fryer Recipes  These air fryer everything bagel chicken cutle...   \n",
              "4  Air Fryer Recipes  These air fryer honey Sriracha salmon bites ar...   \n",
              "\n",
              "                                         ingredients  \\\n",
              "0  [\"3/4 cup ketchup\", \"1/2 cup beer\", \"1 tablesp...   \n",
              "1  [\"1 pound pork belly\", \"1/4 cup gochujang\", \"2...   \n",
              "2  [\"1 \\u00bc pounds chicken tenders\", \"1 tablesp...   \n",
              "3  [\"4 chicken cutlets (about 1 pound total)\", \"s...   \n",
              "4  [\"1 tablespoon soy sauce\", \"1 tablespoon honey...   \n",
              "\n",
              "                                          directions  num_ingredients  \\\n",
              "0  [\"Combine ketchup, beer, Worcestershire sauce,...                9   \n",
              "1  [\"Preheat an air fryer to 400 degrees F (200 d...                5   \n",
              "2  [\"Gather all ingredients. Preheat an air fryer...                3   \n",
              "3  [\"Preheat an air fryer to 400 degrees F (200 d...                9   \n",
              "4  [\"Preheat an air fryer to 400 degrees F (200 d...                5   \n",
              "\n",
              "   num_steps  \n",
              "0          5  \n",
              "1          4  \n",
              "2          4  \n",
              "3          9  \n",
              "4          5  "
            ],
            "text/html": [
              "\n",
              "  <div id=\"df-fd5c8676-f20b-4275-8d7e-78a9200b5b97\" class=\"colab-df-container\">\n",
              "    <div>\n",
              "<style scoped>\n",
              "    .dataframe tbody tr th:only-of-type {\n",
              "        vertical-align: middle;\n",
              "    }\n",
              "\n",
              "    .dataframe tbody tr th {\n",
              "        vertical-align: top;\n",
              "    }\n",
              "\n",
              "    .dataframe thead th {\n",
              "        text-align: right;\n",
              "    }\n",
              "</style>\n",
              "<table border=\"1\" class=\"dataframe\">\n",
              "  <thead>\n",
              "    <tr style=\"text-align: right;\">\n",
              "      <th></th>\n",
              "      <th>recipe_title</th>\n",
              "      <th>category</th>\n",
              "      <th>subcategory</th>\n",
              "      <th>description</th>\n",
              "      <th>ingredients</th>\n",
              "      <th>directions</th>\n",
              "      <th>num_ingredients</th>\n",
              "      <th>num_steps</th>\n",
              "    </tr>\n",
              "  </thead>\n",
              "  <tbody>\n",
              "    <tr>\n",
              "      <th>0</th>\n",
              "      <td>Air Fryer Potato Slices with Dipping Sauce</td>\n",
              "      <td>Air Fryer Recipes</td>\n",
              "      <td>Air Fryer Recipes</td>\n",
              "      <td>These air fryer potato slices, served with a b...</td>\n",
              "      <td>[\"3/4 cup ketchup\", \"1/2 cup beer\", \"1 tablesp...</td>\n",
              "      <td>[\"Combine ketchup, beer, Worcestershire sauce,...</td>\n",
              "      <td>9</td>\n",
              "      <td>5</td>\n",
              "    </tr>\n",
              "    <tr>\n",
              "      <th>1</th>\n",
              "      <td>Gochujang Pork Belly Bites</td>\n",
              "      <td>Air Fryer Recipes</td>\n",
              "      <td>Air Fryer Recipes</td>\n",
              "      <td>These gochujang pork belly bites are sweet and...</td>\n",
              "      <td>[\"1 pound pork belly\", \"1/4 cup gochujang\", \"2...</td>\n",
              "      <td>[\"Preheat an air fryer to 400 degrees F (200 d...</td>\n",
              "      <td>5</td>\n",
              "      <td>4</td>\n",
              "    </tr>\n",
              "    <tr>\n",
              "      <th>2</th>\n",
              "      <td>3-Ingredient Air Fryer Everything Bagel Chicke...</td>\n",
              "      <td>Air Fryer Recipes</td>\n",
              "      <td>Air Fryer Recipes</td>\n",
              "      <td>These 3-ingredient air fryer everything bagel ...</td>\n",
              "      <td>[\"1 \\u00bc pounds chicken tenders\", \"1 tablesp...</td>\n",
              "      <td>[\"Gather all ingredients. Preheat an air fryer...</td>\n",
              "      <td>3</td>\n",
              "      <td>4</td>\n",
              "    </tr>\n",
              "    <tr>\n",
              "      <th>3</th>\n",
              "      <td>Air Fryer Everything Bagel Chicken Cutlets</td>\n",
              "      <td>Air Fryer Recipes</td>\n",
              "      <td>Air Fryer Recipes</td>\n",
              "      <td>These air fryer everything bagel chicken cutle...</td>\n",
              "      <td>[\"4 chicken cutlets (about 1 pound total)\", \"s...</td>\n",
              "      <td>[\"Preheat an air fryer to 400 degrees F (200 d...</td>\n",
              "      <td>9</td>\n",
              "      <td>9</td>\n",
              "    </tr>\n",
              "    <tr>\n",
              "      <th>4</th>\n",
              "      <td>Air Fryer Honey Sriracha Salmon Bites</td>\n",
              "      <td>Air Fryer Recipes</td>\n",
              "      <td>Air Fryer Recipes</td>\n",
              "      <td>These air fryer honey Sriracha salmon bites ar...</td>\n",
              "      <td>[\"1 tablespoon soy sauce\", \"1 tablespoon honey...</td>\n",
              "      <td>[\"Preheat an air fryer to 400 degrees F (200 d...</td>\n",
              "      <td>5</td>\n",
              "      <td>5</td>\n",
              "    </tr>\n",
              "  </tbody>\n",
              "</table>\n",
              "</div>\n",
              "    <div class=\"colab-df-buttons\">\n",
              "\n",
              "  <div class=\"colab-df-container\">\n",
              "    <button class=\"colab-df-convert\" onclick=\"convertToInteractive('df-fd5c8676-f20b-4275-8d7e-78a9200b5b97')\"\n",
              "            title=\"Convert this dataframe to an interactive table.\"\n",
              "            style=\"display:none;\">\n",
              "\n",
              "  <svg xmlns=\"http://www.w3.org/2000/svg\" height=\"24px\" viewBox=\"0 -960 960 960\">\n",
              "    <path d=\"M120-120v-720h720v720H120Zm60-500h600v-160H180v160Zm220 220h160v-160H400v160Zm0 220h160v-160H400v160ZM180-400h160v-160H180v160Zm440 0h160v-160H620v160ZM180-180h160v-160H180v160Zm440 0h160v-160H620v160Z\"/>\n",
              "  </svg>\n",
              "    </button>\n",
              "\n",
              "  <style>\n",
              "    .colab-df-container {\n",
              "      display:flex;\n",
              "      gap: 12px;\n",
              "    }\n",
              "\n",
              "    .colab-df-convert {\n",
              "      background-color: #E8F0FE;\n",
              "      border: none;\n",
              "      border-radius: 50%;\n",
              "      cursor: pointer;\n",
              "      display: none;\n",
              "      fill: #1967D2;\n",
              "      height: 32px;\n",
              "      padding: 0 0 0 0;\n",
              "      width: 32px;\n",
              "    }\n",
              "\n",
              "    .colab-df-convert:hover {\n",
              "      background-color: #E2EBFA;\n",
              "      box-shadow: 0px 1px 2px rgba(60, 64, 67, 0.3), 0px 1px 3px 1px rgba(60, 64, 67, 0.15);\n",
              "      fill: #174EA6;\n",
              "    }\n",
              "\n",
              "    .colab-df-buttons div {\n",
              "      margin-bottom: 4px;\n",
              "    }\n",
              "\n",
              "    [theme=dark] .colab-df-convert {\n",
              "      background-color: #3B4455;\n",
              "      fill: #D2E3FC;\n",
              "    }\n",
              "\n",
              "    [theme=dark] .colab-df-convert:hover {\n",
              "      background-color: #434B5C;\n",
              "      box-shadow: 0px 1px 3px 1px rgba(0, 0, 0, 0.15);\n",
              "      filter: drop-shadow(0px 1px 2px rgba(0, 0, 0, 0.3));\n",
              "      fill: #FFFFFF;\n",
              "    }\n",
              "  </style>\n",
              "\n",
              "    <script>\n",
              "      const buttonEl =\n",
              "        document.querySelector('#df-fd5c8676-f20b-4275-8d7e-78a9200b5b97 button.colab-df-convert');\n",
              "      buttonEl.style.display =\n",
              "        google.colab.kernel.accessAllowed ? 'block' : 'none';\n",
              "\n",
              "      async function convertToInteractive(key) {\n",
              "        const element = document.querySelector('#df-fd5c8676-f20b-4275-8d7e-78a9200b5b97');\n",
              "        const dataTable =\n",
              "          await google.colab.kernel.invokeFunction('convertToInteractive',\n",
              "                                                    [key], {});\n",
              "        if (!dataTable) return;\n",
              "\n",
              "        const docLinkHtml = 'Like what you see? Visit the ' +\n",
              "          '<a target=\"_blank\" href=https://colab.research.google.com/notebooks/data_table.ipynb>data table notebook</a>'\n",
              "          + ' to learn more about interactive tables.';\n",
              "        element.innerHTML = '';\n",
              "        dataTable['output_type'] = 'display_data';\n",
              "        await google.colab.output.renderOutput(dataTable, element);\n",
              "        const docLink = document.createElement('div');\n",
              "        docLink.innerHTML = docLinkHtml;\n",
              "        element.appendChild(docLink);\n",
              "      }\n",
              "    </script>\n",
              "  </div>\n",
              "\n",
              "\n",
              "    <div id=\"df-f9f3d009-f62d-4393-b9c5-4c572881c355\">\n",
              "      <button class=\"colab-df-quickchart\" onclick=\"quickchart('df-f9f3d009-f62d-4393-b9c5-4c572881c355')\"\n",
              "                title=\"Suggest charts\"\n",
              "                style=\"display:none;\">\n",
              "\n",
              "<svg xmlns=\"http://www.w3.org/2000/svg\" height=\"24px\"viewBox=\"0 0 24 24\"\n",
              "     width=\"24px\">\n",
              "    <g>\n",
              "        <path d=\"M19 3H5c-1.1 0-2 .9-2 2v14c0 1.1.9 2 2 2h14c1.1 0 2-.9 2-2V5c0-1.1-.9-2-2-2zM9 17H7v-7h2v7zm4 0h-2V7h2v10zm4 0h-2v-4h2v4z\"/>\n",
              "    </g>\n",
              "</svg>\n",
              "      </button>\n",
              "\n",
              "<style>\n",
              "  .colab-df-quickchart {\n",
              "      --bg-color: #E8F0FE;\n",
              "      --fill-color: #1967D2;\n",
              "      --hover-bg-color: #E2EBFA;\n",
              "      --hover-fill-color: #174EA6;\n",
              "      --disabled-fill-color: #AAA;\n",
              "      --disabled-bg-color: #DDD;\n",
              "  }\n",
              "\n",
              "  [theme=dark] .colab-df-quickchart {\n",
              "      --bg-color: #3B4455;\n",
              "      --fill-color: #D2E3FC;\n",
              "      --hover-bg-color: #434B5C;\n",
              "      --hover-fill-color: #FFFFFF;\n",
              "      --disabled-bg-color: #3B4455;\n",
              "      --disabled-fill-color: #666;\n",
              "  }\n",
              "\n",
              "  .colab-df-quickchart {\n",
              "    background-color: var(--bg-color);\n",
              "    border: none;\n",
              "    border-radius: 50%;\n",
              "    cursor: pointer;\n",
              "    display: none;\n",
              "    fill: var(--fill-color);\n",
              "    height: 32px;\n",
              "    padding: 0;\n",
              "    width: 32px;\n",
              "  }\n",
              "\n",
              "  .colab-df-quickchart:hover {\n",
              "    background-color: var(--hover-bg-color);\n",
              "    box-shadow: 0 1px 2px rgba(60, 64, 67, 0.3), 0 1px 3px 1px rgba(60, 64, 67, 0.15);\n",
              "    fill: var(--button-hover-fill-color);\n",
              "  }\n",
              "\n",
              "  .colab-df-quickchart-complete:disabled,\n",
              "  .colab-df-quickchart-complete:disabled:hover {\n",
              "    background-color: var(--disabled-bg-color);\n",
              "    fill: var(--disabled-fill-color);\n",
              "    box-shadow: none;\n",
              "  }\n",
              "\n",
              "  .colab-df-spinner {\n",
              "    border: 2px solid var(--fill-color);\n",
              "    border-color: transparent;\n",
              "    border-bottom-color: var(--fill-color);\n",
              "    animation:\n",
              "      spin 1s steps(1) infinite;\n",
              "  }\n",
              "\n",
              "  @keyframes spin {\n",
              "    0% {\n",
              "      border-color: transparent;\n",
              "      border-bottom-color: var(--fill-color);\n",
              "      border-left-color: var(--fill-color);\n",
              "    }\n",
              "    20% {\n",
              "      border-color: transparent;\n",
              "      border-left-color: var(--fill-color);\n",
              "      border-top-color: var(--fill-color);\n",
              "    }\n",
              "    30% {\n",
              "      border-color: transparent;\n",
              "      border-left-color: var(--fill-color);\n",
              "      border-top-color: var(--fill-color);\n",
              "      border-right-color: var(--fill-color);\n",
              "    }\n",
              "    40% {\n",
              "      border-color: transparent;\n",
              "      border-right-color: var(--fill-color);\n",
              "      border-top-color: var(--fill-color);\n",
              "    }\n",
              "    60% {\n",
              "      border-color: transparent;\n",
              "      border-right-color: var(--fill-color);\n",
              "    }\n",
              "    80% {\n",
              "      border-color: transparent;\n",
              "      border-right-color: var(--fill-color);\n",
              "      border-bottom-color: var(--fill-color);\n",
              "    }\n",
              "    90% {\n",
              "      border-color: transparent;\n",
              "      border-bottom-color: var(--fill-color);\n",
              "    }\n",
              "  }\n",
              "</style>\n",
              "\n",
              "      <script>\n",
              "        async function quickchart(key) {\n",
              "          const quickchartButtonEl =\n",
              "            document.querySelector('#' + key + ' button');\n",
              "          quickchartButtonEl.disabled = true;  // To prevent multiple clicks.\n",
              "          quickchartButtonEl.classList.add('colab-df-spinner');\n",
              "          try {\n",
              "            const charts = await google.colab.kernel.invokeFunction(\n",
              "                'suggestCharts', [key], {});\n",
              "          } catch (error) {\n",
              "            console.error('Error during call to suggestCharts:', error);\n",
              "          }\n",
              "          quickchartButtonEl.classList.remove('colab-df-spinner');\n",
              "          quickchartButtonEl.classList.add('colab-df-quickchart-complete');\n",
              "        }\n",
              "        (() => {\n",
              "          let quickchartButtonEl =\n",
              "            document.querySelector('#df-f9f3d009-f62d-4393-b9c5-4c572881c355 button');\n",
              "          quickchartButtonEl.style.display =\n",
              "            google.colab.kernel.accessAllowed ? 'block' : 'none';\n",
              "        })();\n",
              "      </script>\n",
              "    </div>\n",
              "\n",
              "    </div>\n",
              "  </div>\n"
            ],
            "application/vnd.google.colaboratory.intrinsic+json": {
              "type": "dataframe",
              "summary": "{\n  \"name\": \"display(df\",\n  \"rows\": 5,\n  \"fields\": [\n    {\n      \"column\": \"recipe_title\",\n      \"properties\": {\n        \"dtype\": \"string\",\n        \"num_unique_values\": 5,\n        \"samples\": [\n          \"Gochujang Pork Belly Bites\",\n          \"Air Fryer Honey Sriracha Salmon Bites\",\n          \"3-Ingredient Air Fryer Everything Bagel Chicken Strips\"\n        ],\n        \"semantic_type\": \"\",\n        \"description\": \"\"\n      }\n    },\n    {\n      \"column\": \"category\",\n      \"properties\": {\n        \"dtype\": \"category\",\n        \"num_unique_values\": 1,\n        \"samples\": [\n          \"Air Fryer Recipes\"\n        ],\n        \"semantic_type\": \"\",\n        \"description\": \"\"\n      }\n    },\n    {\n      \"column\": \"subcategory\",\n      \"properties\": {\n        \"dtype\": \"category\",\n        \"num_unique_values\": 1,\n        \"samples\": [\n          \"Air Fryer Recipes\"\n        ],\n        \"semantic_type\": \"\",\n        \"description\": \"\"\n      }\n    },\n    {\n      \"column\": \"description\",\n      \"properties\": {\n        \"dtype\": \"string\",\n        \"num_unique_values\": 5,\n        \"samples\": [\n          \"These gochujang pork belly bites are sweet and spicy, crispy and crunchy, and absolutely delicious. Whether you finish them with the gochujang sauce in the air fryer, or just dip them in the sauce at the end, they are irresistibly good.\"\n        ],\n        \"semantic_type\": \"\",\n        \"description\": \"\"\n      }\n    },\n    {\n      \"column\": \"ingredients\",\n      \"properties\": {\n        \"dtype\": \"string\",\n        \"num_unique_values\": 5,\n        \"samples\": [\n          \"[\\\"1 pound pork belly\\\", \\\"1/4 cup gochujang\\\", \\\"2 tablespoons soy sauce\\\", \\\"1 tablespoon honey,\\\", \\\"1 teaspoon ground ginger\\\"]\"\n        ],\n        \"semantic_type\": \"\",\n        \"description\": \"\"\n      }\n    },\n    {\n      \"column\": \"directions\",\n      \"properties\": {\n        \"dtype\": \"string\",\n        \"num_unique_values\": 5,\n        \"samples\": [\n          \"[\\\"Preheat an air fryer to 400 degrees F (200 degrees C).\\\", \\\"Place pork belly pieces in the basket in a single layer, not touching. Air fry for 8 to 9 minutes; turn over and air fry for 6 to 7 minutes more.\\\", \\\"Meanwhile, for sauce, stir gochujang, soy sauce, hot honey, and ginger together in a medium bowl.\\\", \\\"Remove pork belly from air fryer basket; toss in sauce to coat. Return to the air fryer and fry until bites begin to char at the edges, 8 to 11 minutes more. (Alternately, you can use sauce only for dipping; in this case, continue to fry without removing bites, until they begin to char, 6 to 7 minutes.)\\\"]\"\n        ],\n        \"semantic_type\": \"\",\n        \"description\": \"\"\n      }\n    },\n    {\n      \"column\": \"num_ingredients\",\n      \"properties\": {\n        \"dtype\": \"number\",\n        \"std\": 2,\n        \"min\": 3,\n        \"max\": 9,\n        \"num_unique_values\": 3,\n        \"samples\": [\n          9\n        ],\n        \"semantic_type\": \"\",\n        \"description\": \"\"\n      }\n    },\n    {\n      \"column\": \"num_steps\",\n      \"properties\": {\n        \"dtype\": \"number\",\n        \"std\": 2,\n        \"min\": 4,\n        \"max\": 9,\n        \"num_unique_values\": 3,\n        \"samples\": [\n          5\n        ],\n        \"semantic_type\": \"\",\n        \"description\": \"\"\n      }\n    }\n  ]\n}"
            }
          },
          "metadata": {}
        }
      ]
    }
  ]
}